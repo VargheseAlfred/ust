{
  "cells": [
    {
      "cell_type": "code",
      "execution_count": null,
      "id": "fbf580f5-d1d9-4422-87c3-98d4d4456945",
      "metadata": {
        "id": "fbf580f5-d1d9-4422-87c3-98d4d4456945",
        "outputId": "05505c10-2db3-42f8-8863-be306a408dc1"
      },
      "outputs": [
        {
          "data": {
            "text/html": [
              "\n",
              "            <div>\n",
              "                <p><b>SparkSession - in-memory</b></p>\n",
              "                \n",
              "        <div>\n",
              "            <p><b>SparkContext</b></p>\n",
              "\n",
              "            <p><a href=\"http://172.19.3.174:4041\">Spark UI</a></p>\n",
              "\n",
              "            <dl>\n",
              "              <dt>Version</dt>\n",
              "                <dd><code>v3.5.5</code></dd>\n",
              "              <dt>Master</dt>\n",
              "                <dd><code>local[*]</code></dd>\n",
              "              <dt>AppName</dt>\n",
              "                <dd><code>MySparkApp</code></dd>\n",
              "            </dl>\n",
              "        </div>\n",
              "        \n",
              "            </div>\n",
              "        "
            ],
            "text/plain": [
              "<pyspark.sql.session.SparkSession at 0x192f1037310>"
            ]
          },
          "execution_count": 76,
          "metadata": {},
          "output_type": "execute_result"
        }
      ],
      "source": [
        "from pyspark.sql import SparkSession\n",
        "spark = SparkSession.builder.appName(\"MySparkApp\").master(\"local[*]\").getOrCreate()\n",
        "from pyspark.sql.functions import col,count,avg, month, year, to_date, current_date, when\n",
        "spark"
      ]
    },
    {
      "cell_type": "code",
      "execution_count": null,
      "id": "6d489607-78da-4b80-ae2b-27691619ed0f",
      "metadata": {
        "id": "6d489607-78da-4b80-ae2b-27691619ed0f"
      },
      "outputs": [],
      "source": [
        "df = spark.read.csv(\"final_data.csv\", header = True,inferSchema = True)"
      ]
    },
    {
      "cell_type": "code",
      "execution_count": null,
      "id": "e00b4946-6ea9-471a-a058-9c05b8fe3d2c",
      "metadata": {
        "id": "e00b4946-6ea9-471a-a058-9c05b8fe3d2c",
        "outputId": "40f4b326-2d28-4ca5-b7b6-ed4422a6a989"
      },
      "outputs": [
        {
          "name": "stdout",
          "output_type": "stream",
          "text": [
            "+---------------------+----------------+--------------------+--------------+------+-----------+------+------+--------------------+------------+-----+-----+-------+------------------+--------+--------------------+----------+--------------------+----------+------------------+-----------+--------+\n",
            "|trans_date_trans_time|          cc_num|            merchant|      category|   amt|      first|  last|gender|              street|        city|state|  zip|    lat|              long|city_pop|                 job|       dob|           trans_num| unix_time|         merch_lat| merch_long|is_fraud|\n",
            "+---------------------+----------------+--------------------+--------------+------+-----------+------+------+--------------------+------------+-----+-----+-------+------------------+--------+--------------------+----------+--------------------+----------+------------------+-----------+--------+\n",
            "|  2019-08-11 19:38:33|4681601008538160|fraud_Hermann and...|  shopping_pos| 50.81|      Tammy| Davis|     F|77663 Colleen Fre...| Moundsville|   WV|26041|39.9148|-80.73100000000001|   16183|     Physiotherapist|1977-08-12|f64003a5726ca9951...|1344713913|         39.238053| -81.728984|       0|\n",
            "|  2020-02-21 13:31:42|4653879239169997|fraud_Cronin, Ksh...|health_fitness|  1.97|     Monica|Tucker|     F|302 Christina Isl...|Smiths Grove|   KY|42171|37.0581|          -86.1938|    6841|   Therapist, sports|1999-06-06|f8e25094098b22a8e...|1361453502|         36.665575| -85.608885|       0|\n",
            "|  2019-09-03 02:39:49|4334230547694630|fraud_Rutherford-...|   grocery_pos|100.18|      Scott|Martin|     M|  7483 Navarro Flats|     Freedom|   WY|83120|43.0172|         -111.0292|     471|Education officer...|1967-08-02|291160a410748e5be...|1346639989|43.362578000000006|-110.580382|       0|\n",
            "|  2020-03-31 02:39:04|2256234701263057|  fraud_Kris-Padberg|  shopping_pos|  7.67|Christopher|Grimes|     M|   39631 Dunn Radial|    Grantham|   NH| 3753|43.5103|          -72.1334|    2971|  Charity fundraiser|1948-04-11|df716fe9ce97522bc...|1364697544|         44.312773| -71.555079|       0|\n",
            "|  2020-12-05 07:58:57|6011948324228984|fraud_Towne, Gree...|  shopping_net| 478.1|   Mckenzie|Brooks|     F| 3872 Matthew Skyway|       Paris|   MS|38949|34.1992|           -89.382|     297|Administrator, lo...|1961-12-14|c33bcd8c63d50b4fe...|1386230337|34.362314000000005| -89.623306|       0|\n",
            "+---------------------+----------------+--------------------+--------------+------+-----------+------+------+--------------------+------------+-----+-----+-------+------------------+--------+--------------------+----------+--------------------+----------+------------------+-----------+--------+\n",
            "only showing top 5 rows\n",
            "\n"
          ]
        }
      ],
      "source": [
        "df.show(5)"
      ]
    },
    {
      "cell_type": "code",
      "execution_count": null,
      "id": "6d677b4d-3e57-4dfd-957a-9efde43523a0",
      "metadata": {
        "id": "6d677b4d-3e57-4dfd-957a-9efde43523a0",
        "outputId": "e5335ca5-94d4-4be2-815a-cb97eb505986"
      },
      "outputs": [
        {
          "name": "stdout",
          "output_type": "stream",
          "text": [
            "+------+\n",
            "|gender|\n",
            "+------+\n",
            "|     F|\n",
            "|     F|\n",
            "|     M|\n",
            "|     M|\n",
            "|     F|\n",
            "+------+\n",
            "only showing top 5 rows\n",
            "\n"
          ]
        }
      ],
      "source": [
        "df.select(\"gender\").show(5)"
      ]
    },
    {
      "cell_type": "code",
      "execution_count": null,
      "id": "f88ebbfd-7501-43ff-a0a8-cfe59738f068",
      "metadata": {
        "id": "f88ebbfd-7501-43ff-a0a8-cfe59738f068",
        "outputId": "0c3350d4-2a8f-4251-87b9-5472e7fa59d1"
      },
      "outputs": [
        {
          "name": "stdout",
          "output_type": "stream",
          "text": [
            "root\n",
            " |-- trans_date_trans_time: timestamp (nullable = true)\n",
            " |-- cc_num: long (nullable = true)\n",
            " |-- merchant: string (nullable = true)\n",
            " |-- category: string (nullable = true)\n",
            " |-- amt: double (nullable = true)\n",
            " |-- first: string (nullable = true)\n",
            " |-- last: string (nullable = true)\n",
            " |-- gender: string (nullable = true)\n",
            " |-- street: string (nullable = true)\n",
            " |-- city: string (nullable = true)\n",
            " |-- state: string (nullable = true)\n",
            " |-- zip: integer (nullable = true)\n",
            " |-- lat: double (nullable = true)\n",
            " |-- long: double (nullable = true)\n",
            " |-- city_pop: integer (nullable = true)\n",
            " |-- job: string (nullable = true)\n",
            " |-- dob: date (nullable = true)\n",
            " |-- trans_num: string (nullable = true)\n",
            " |-- unix_time: integer (nullable = true)\n",
            " |-- merch_lat: double (nullable = true)\n",
            " |-- merch_long: double (nullable = true)\n",
            " |-- is_fraud: integer (nullable = true)\n",
            "\n"
          ]
        }
      ],
      "source": [
        "df.printSchema()"
      ]
    },
    {
      "cell_type": "markdown",
      "id": "cf50ec7e-ff95-425e-9a89-6c49317aa22a",
      "metadata": {
        "id": "cf50ec7e-ff95-425e-9a89-6c49317aa22a"
      },
      "source": [
        "## 1. Top 5 cities Where most fraudulent transactions occur"
      ]
    },
    {
      "cell_type": "code",
      "execution_count": null,
      "id": "4bfd737c-81ce-46cf-b6d1-358356c93baf",
      "metadata": {
        "id": "4bfd737c-81ce-46cf-b6d1-358356c93baf"
      },
      "outputs": [],
      "source": [
        "fraud_df = df.filter(col(\"is_fraud\") == 1)"
      ]
    },
    {
      "cell_type": "code",
      "execution_count": null,
      "id": "baf2ec09-2bfb-40be-a3cc-5ada6f88f7ba",
      "metadata": {
        "id": "baf2ec09-2bfb-40be-a3cc-5ada6f88f7ba",
        "outputId": "467b1ede-c130-4962-df38-5448ec8b63c1"
      },
      "outputs": [
        {
          "name": "stdout",
          "output_type": "stream",
          "text": [
            "+-------------+-----+\n",
            "|         city|count|\n",
            "+-------------+-----+\n",
            "|       Dallas|   39|\n",
            "|      Houston|   39|\n",
            "|   Birmingham|   36|\n",
            "|New York City|   35|\n",
            "|    Allentown|   34|\n",
            "+-------------+-----+\n",
            "only showing top 5 rows\n",
            "\n"
          ]
        }
      ],
      "source": [
        "fraud_counts = fraud_df.groupBy(\"city\").count()\n",
        "top_5 = fraud_counts.orderBy(col(\"count\").desc())\n",
        "top_5.show(5)"
      ]
    },
    {
      "cell_type": "markdown",
      "id": "75988e67-2b0c-48c7-be92-d21d96d912be",
      "metadata": {
        "id": "75988e67-2b0c-48c7-be92-d21d96d912be"
      },
      "source": [
        "## Most fraudent transaction categories assosciated with fraudulent transactions"
      ]
    },
    {
      "cell_type": "code",
      "execution_count": null,
      "id": "5e39924f-25f6-4d57-a8e3-f605fda54e42",
      "metadata": {
        "id": "5e39924f-25f6-4d57-a8e3-f605fda54e42",
        "outputId": "1db68fa3-c316-4dd0-f06c-c6f6f4fe1189"
      },
      "outputs": [
        {
          "name": "stdout",
          "output_type": "stream",
          "text": [
            "+-----------+-----+\n",
            "|   category|count|\n",
            "+-----------+-----+\n",
            "|grocery_pos| 2228|\n",
            "+-----------+-----+\n",
            "only showing top 1 row\n",
            "\n"
          ]
        }
      ],
      "source": [
        "fraud_cat = fraud_df.groupBy(\"category\").count()\n",
        "top_fraudc = fraud_cat.orderBy(col(\"count\").desc())\n",
        "top_fraudc.show(1)"
      ]
    },
    {
      "cell_type": "markdown",
      "id": "c9ea1f18-3522-4b87-a5d2-8b78507d40ef",
      "metadata": {
        "id": "c9ea1f18-3522-4b87-a5d2-8b78507d40ef"
      },
      "source": [
        "## 3. top 10 most frequent merchants for fraudelent transactions"
      ]
    },
    {
      "cell_type": "code",
      "execution_count": null,
      "id": "bcdb5082-e1aa-4de1-8bb9-f7e5ddc402db",
      "metadata": {
        "id": "bcdb5082-e1aa-4de1-8bb9-f7e5ddc402db",
        "outputId": "cdae24fc-10a2-4fca-875f-5720a0b373a3"
      },
      "outputs": [
        {
          "name": "stdout",
          "output_type": "stream",
          "text": [
            "+--------------------+-----+\n",
            "|            merchant|count|\n",
            "+--------------------+-----+\n",
            "|   fraud_Kilback LLC|   62|\n",
            "|  fraud_Rau and Sons|   60|\n",
            "|   fraud_Kozey-Boehm|   60|\n",
            "|     fraud_Doyle Ltd|   57|\n",
            "|    fraud_Terry-Huel|   56|\n",
            "|      fraud_Kuhn LLC|   55|\n",
            "|     fraud_Boyer PLC|   55|\n",
            "|     fraud_Kuhic LLC|   53|\n",
            "|fraud_Moen, Reing...|   53|\n",
            "|fraud_Kiehn-Emmerich|   53|\n",
            "+--------------------+-----+\n",
            "only showing top 10 rows\n",
            "\n"
          ]
        }
      ],
      "source": [
        "fraud_merchant = fraud_df.groupBy(\"merchant\").count()\n",
        "top_merch = fraud_merchant.orderBy(col(\"count\").desc())\n",
        "top_merch.show(10)"
      ]
    },
    {
      "cell_type": "markdown",
      "id": "de2cc03e-6cdc-41a7-b830-bf2f2d2c30a3",
      "metadata": {
        "id": "de2cc03e-6cdc-41a7-b830-bf2f2d2c30a3"
      },
      "source": [
        "## 4. Avg amount spent by each gender"
      ]
    },
    {
      "cell_type": "code",
      "execution_count": null,
      "id": "e0d3d856-0cb3-4739-ae90-607bda662192",
      "metadata": {
        "id": "e0d3d856-0cb3-4739-ae90-607bda662192",
        "outputId": "a4e0cbbc-82ad-4e58-cc18-43df45dc7427"
      },
      "outputs": [
        {
          "name": "stdout",
          "output_type": "stream",
          "text": [
            "+------+------------------+\n",
            "|gender|  avg_amount_spent|\n",
            "+------+------------------+\n",
            "|     F|271.71298766157497|\n",
            "|     M|330.50721562156156|\n",
            "+------+------------------+\n",
            "\n"
          ]
        }
      ],
      "source": [
        "# Group by gender and calculate the average transaction amount\n",
        "avg_amtgender = df.groupBy(\"gender\").agg(avg(col(\"amt\")).alias(\"avg_amount_spent\"))\n",
        "\n",
        "# Show the results\n",
        "avg_amtgender.show()"
      ]
    },
    {
      "cell_type": "markdown",
      "id": "d76d5ac8-d401-47c3-a888-37044b76f5df",
      "metadata": {
        "id": "d76d5ac8-d401-47c3-a888-37044b76f5df"
      },
      "source": [
        "## 5. top 5 merchants with the highest average transaction amount"
      ]
    },
    {
      "cell_type": "code",
      "execution_count": null,
      "id": "9b63edf0-094b-4d8d-b66f-1ae2b5eb4575",
      "metadata": {
        "id": "9b63edf0-094b-4d8d-b66f-1ae2b5eb4575",
        "outputId": "828b69df-5e9f-42a0-d350-5ec5bb6fbfa1"
      },
      "outputs": [
        {
          "name": "stdout",
          "output_type": "stream",
          "text": [
            "+--------------------+----------------------+\n",
            "|            merchant|avg_transaction_amount|\n",
            "+--------------------+----------------------+\n",
            "|fraud_Bashirian G...|     891.0655102040814|\n",
            "|     fraud_Kuhic LLC|     869.5223437500001|\n",
            "|fraud_Schmidt and...|     852.2311111111113|\n",
            "|fraud_Heathcote, ...|     838.5803225806453|\n",
            "|   fraud_Kozey-Boehm|      832.279864864865|\n",
            "+--------------------+----------------------+\n",
            "only showing top 5 rows\n",
            "\n"
          ]
        }
      ],
      "source": [
        "avg_mercamt = df.groupBy(\"merchant\").agg(avg(col(\"amt\")).alias(\"avg_transaction_amount\"))\n",
        "top_merc = avg_mercamt.orderBy(col(\"avg_transaction_amount\").desc())\n",
        "top_merc.show(5)"
      ]
    },
    {
      "cell_type": "markdown",
      "id": "4c978024-eec6-41f1-afa0-a0844ed2fa6b",
      "metadata": {
        "id": "4c978024-eec6-41f1-afa0-a0844ed2fa6b"
      },
      "source": [
        "## 6. Age of each customer"
      ]
    },
    {
      "cell_type": "code",
      "execution_count": null,
      "id": "6a031da8-829b-48f7-bc3f-0e1690d7822a",
      "metadata": {
        "id": "6a031da8-829b-48f7-bc3f-0e1690d7822a",
        "outputId": "72f2d9e7-81ec-4f1d-a9b1-1e5cfb514c1d"
      },
      "outputs": [
        {
          "name": "stdout",
          "output_type": "stream",
          "text": [
            "+-----------+---------+----------+---+\n",
            "|      first|     last|       dob|age|\n",
            "+-----------+---------+----------+---+\n",
            "|      Tammy|    Davis|1977-08-12| 48|\n",
            "|     Monica|   Tucker|1999-06-06| 26|\n",
            "|      Scott|   Martin|1967-08-02| 58|\n",
            "|Christopher|   Grimes|1948-04-11| 77|\n",
            "|   Mckenzie|   Brooks|1961-12-14| 64|\n",
            "|       John|   Peters|1979-09-03| 46|\n",
            "|     Morgan|    Smith|1973-11-14| 52|\n",
            "|      Allen|     Bell|1974-02-15| 51|\n",
            "|    Crystal|   Gamble|1985-01-01| 40|\n",
            "|    Douglas|   Willis|1958-09-10| 67|\n",
            "|       Mary|Rodriguez|1965-09-27| 60|\n",
            "|   Margaret|      Lam|1972-10-04| 53|\n",
            "|  Christian|    Roman|1974-10-15| 51|\n",
            "|      Jesse|  Roberts|1988-04-15| 37|\n",
            "|     Steven|    Yoder|1992-06-19| 33|\n",
            "|   Danielle|    Evans|1991-10-13| 34|\n",
            "|      Casey|   Howell|1966-11-10| 59|\n",
            "|   Kristina|  Stewart|1971-04-25| 54|\n",
            "|   Jennifer|    Black|1981-08-29| 44|\n",
            "|    Dorothy|   Thomas|1996-11-12| 29|\n",
            "+-----------+---------+----------+---+\n",
            "only showing top 20 rows\n",
            "\n"
          ]
        }
      ],
      "source": [
        "df = df.withColumn(\"dob\", to_date(col(\"dob\"), \"yyyy-MM-dd HH:mm:ss\"))\n",
        "df = df.withColumn(\"age\", year(current_date()) - year(col(\"dob\")))\n",
        "df.select(\"first\", \"last\", \"dob\", \"age\").show()"
      ]
    },
    {
      "cell_type": "markdown",
      "id": "7e1512be-042a-42c6-893a-091db153bfbd",
      "metadata": {
        "id": "7e1512be-042a-42c6-893a-091db153bfbd"
      },
      "source": [
        "## 7. top 5 states with the higest number of transcartions"
      ]
    },
    {
      "cell_type": "code",
      "execution_count": null,
      "id": "c573537d-c269-4c9d-88cf-5033f8fd3519",
      "metadata": {
        "id": "c573537d-c269-4c9d-88cf-5033f8fd3519",
        "outputId": "73d51d78-9421-4fbb-c512-6b9560b7dcc5"
      },
      "outputs": [
        {
          "name": "stdout",
          "output_type": "stream",
          "text": [
            "+-----+-----+\n",
            "|state|count|\n",
            "+-----+-----+\n",
            "|   NY| 1290|\n",
            "|   TX| 1287|\n",
            "|   PA| 1153|\n",
            "|   CA|  857|\n",
            "|   OH|  687|\n",
            "+-----+-----+\n",
            "\n"
          ]
        }
      ],
      "source": [
        "state_transaction_counts = df.groupBy(\"state\").count()\n",
        "top_states = state_transaction_counts.orderBy(col(\"count\").desc())\n",
        "top_states.show(5)"
      ]
    },
    {
      "cell_type": "markdown",
      "id": "90be3ed1-88ed-4d0d-b103-777379b8b4b5",
      "metadata": {
        "id": "90be3ed1-88ed-4d0d-b103-777379b8b4b5"
      },
      "source": [
        "## 8. distribution of transcations over the course of month"
      ]
    },
    {
      "cell_type": "code",
      "execution_count": null,
      "id": "9f5f7b68-06c2-4337-bdfa-6586b6cbb7e7",
      "metadata": {
        "id": "9f5f7b68-06c2-4337-bdfa-6586b6cbb7e7",
        "outputId": "61e4a7eb-0933-4727-958c-d7efe0ec3f1c"
      },
      "outputs": [
        {
          "name": "stdout",
          "output_type": "stream",
          "text": [
            "+-----+-----+\n",
            "|month|count|\n",
            "+-----+-----+\n",
            "|    1| 1413|\n",
            "|    2| 1360|\n",
            "|    3| 1664|\n",
            "|    4| 1416|\n",
            "|    5| 1674|\n",
            "|    6| 1741|\n",
            "|    7| 1563|\n",
            "|    8| 1694|\n",
            "|    9| 1513|\n",
            "|   10| 1547|\n",
            "|   11| 1404|\n",
            "|   12| 2313|\n",
            "+-----+-----+\n",
            "\n"
          ]
        }
      ],
      "source": [
        "monthly_transaction_counts = df.groupBy(month(col(\"trans_date_trans_time\")).alias(\"month\")).count()\n",
        "monthly_transaction_counts.orderBy(col(\"month\")).show()"
      ]
    },
    {
      "cell_type": "markdown",
      "id": "30820c5d-ed16-4042-9244-33e449e373fa",
      "metadata": {
        "id": "30820c5d-ed16-4042-9244-33e449e373fa"
      },
      "source": [
        "## 10. Spending Pattern based on Age"
      ]
    },
    {
      "cell_type": "code",
      "execution_count": null,
      "id": "39bc001d-5758-465a-8fba-fd96a1ca9da1",
      "metadata": {
        "id": "39bc001d-5758-465a-8fba-fd96a1ca9da1",
        "outputId": "3226668f-dc32-4717-a2bb-45fd400eb780"
      },
      "outputs": [
        {
          "name": "stdout",
          "output_type": "stream",
          "text": [
            "+---------+------------------+\n",
            "|age_group|  avg_amount_spent|\n",
            "+---------+------------------+\n",
            "|    18-25| 341.1335061728393|\n",
            "|    26-35|  300.274189364462|\n",
            "|    36-45| 256.7721430363867|\n",
            "|    46-55|244.01207727044644|\n",
            "|    56-65|354.12696461824964|\n",
            "|      65+| 341.5525411255414|\n",
            "+---------+------------------+\n",
            "\n"
          ]
        }
      ],
      "source": [
        "df = df.withColumn(\"age_group\",\n",
        "    when(col(\"age\").between(18, 25), \"18-25\")\n",
        "    .when(col(\"age\").between(26, 35), \"26-35\")\n",
        "    .when(col(\"age\").between(36, 45), \"36-45\")\n",
        "    .when(col(\"age\").between(46, 55), \"46-55\")\n",
        "    .when(col(\"age\").between(56, 65), \"56-65\")\n",
        "    .when(col(\"age\") > 65, \"65+\"))\n",
        "\n",
        "avg_spent= df.groupBy(\"age_group\").agg(avg(col(\"amt\")).alias(\"avg_amount_spent\"))\n",
        "avg_spent.orderBy(\"age_group\").show()"
      ]
    },
    {
      "cell_type": "code",
      "execution_count": null,
      "id": "ecd9811c-d9b2-4fdf-9d47-3b114272bcbc",
      "metadata": {
        "id": "ecd9811c-d9b2-4fdf-9d47-3b114272bcbc"
      },
      "outputs": [],
      "source": []
    }
  ],
  "metadata": {
    "kernelspec": {
      "display_name": "PySpark",
      "language": "python",
      "name": "pyspark"
    },
    "language_info": {
      "codemirror_mode": {
        "name": "ipython",
        "version": 3
      },
      "file_extension": ".py",
      "mimetype": "text/x-python",
      "name": "python",
      "nbconvert_exporter": "python",
      "pygments_lexer": "ipython3",
      "version": "3.11.0"
    },
    "colab": {
      "provenance": []
    }
  },
  "nbformat": 4,
  "nbformat_minor": 5
}