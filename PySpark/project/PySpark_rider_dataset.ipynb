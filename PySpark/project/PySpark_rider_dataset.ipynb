{
  "cells": [
    {
      "cell_type": "code",
      "execution_count": null,
      "id": "84c25195-859a-4618-a3e1-1c80fec9cb3b",
      "metadata": {
        "id": "84c25195-859a-4618-a3e1-1c80fec9cb3b",
        "outputId": "7f1dde9b-0576-46b8-db3e-1011a2b97f70"
      },
      "outputs": [
        {
          "name": "stdout",
          "output_type": "stream",
          "text": [
            "Spark version: 3.5.5\n"
          ]
        }
      ],
      "source": [
        "import findspark\n",
        "findspark.init()  # Automatically finds and sets SPARK_HOME\n",
        "\n",
        "from pyspark.sql import SparkSession\n",
        "\n",
        "spark = SparkSession.builder \\\n",
        "    .appName(\"MyApp\") \\\n",
        "    .master(\"local[*]\") \\\n",
        "    .getOrCreate()\n",
        "\n",
        "# Check Spark version\n",
        "print(\"Spark version:\", spark.version)\n",
        "sc=spark.sparkContext"
      ]
    },
    {
      "cell_type": "markdown",
      "id": "fab51c15-7e3b-40e5-af74-1ae71d53bfa2",
      "metadata": {
        "id": "fab51c15-7e3b-40e5-af74-1ae71d53bfa2"
      },
      "source": [
        "# Customers Data"
      ]
    },
    {
      "cell_type": "code",
      "execution_count": null,
      "id": "a0a5d815-8b36-4afc-85ed-2910d4863eee",
      "metadata": {
        "id": "a0a5d815-8b36-4afc-85ed-2910d4863eee",
        "outputId": "bd05deda-82d2-4d5e-e4ac-1d9cbb30b9a2"
      },
      "outputs": [
        {
          "name": "stdout",
          "output_type": "stream",
          "text": [
            "+---------------+---------------+-----------+-------------------+-------------+-------+---------------+---------------+-------------+---------+------------+---------------+--------------+----------------------+---------+----------------+------------+--------------+----------------+--------+-----------+\n",
            "|Pickup DateTime|  Drop DateTime|Driver Name|Driver Phone Number|Trip Distance|Trip ID|Pickup Location|  Drop Location|Trip Duration|Trip Fare|Vehicle Type|   Trip Purpose|Passenger Name|Passenger Phone Number|Scheduled|Passenger Rating|Driver Rated|Payment Method|Payment Discount|Net Fare|Trip Status|\n",
            "+---------------+---------------+-----------+-------------------+-------------+-------+---------------+---------------+-------------+---------+------------+---------------+--------------+----------------------+---------+----------------+------------+--------------+----------------+--------+-----------+\n",
            "| 1/1/2016 21:11| 1/1/2016 21:17|     Almire|         9298608912|           21| 318886|    Fort Pierce|    Fort Pierce|          5.1|    49.98|        Bike| Meal/Entertain|       Johanna|            9181026109|      YES|             3.6|         YES|          Gpay|              0%|   49.98|  Cancelled|\n",
            "| 1/2/2016 20:25| 1/2/2016 20:38|    Frazier|         8621617385|           27| 318886|    Fort Pierce|    Fort Pierce|          4.8|    47.04|        Bike|Errand/Supplies|       Charlot|            9855403124|      YES|             4.5|         YES|        Phonpe|              0%|   47.04|    Arrived|\n",
            "| 1/5/2016 17:31| 1/5/2016 17:45|     Editha|         9954004976|           20| 318886|    Fort Pierce|    Fort Pierce|          4.7|    46.06|        Bike|        Meeting|         Cissy|            9328907059|      YES|             4.8|         YES|         Paytm|              0%|   46.06|   Assigned|\n",
            "| 1/6/2016 14:42| 1/6/2016 15:49|      Deeyn|         9885727873|           34| 318886|    Fort Pierce|West Palm Beach|         63.7|   624.26|        Bike| Customer Visit|        Luelle|            9774674359|       NO|             4.9|         YES|   Uber wallet|             10%| 561.834|   Assigned|\n",
            "| 1/6/2016 17:15| 1/6/2016 17:19|     Correy|         9661756645|           28| 475241|West Palm Beach|West Palm Beach|          4.3|    42.14|        Bike| Meal/Entertain|         Myrle|            9425892986|       NO|             5.0|          NO|          cash|              0%|   42.14|   Assigned|\n",
            "| 1/6/2016 17:30| 1/6/2016 17:35|      Bryan|         8721880095|           50| 475241|West Palm Beach|     Palm Beach|          7.1|    69.58|        Bike|        Meeting|        Duncan|            9611855033|      YES|             3.0|         YES|   Uber wallet|             10%|  76.538|    Arrived|\n",
            "| 1/7/2016 13:27| 1/7/2016 13:33|     Crissy|         8579258893|           68| 265814|           Cary|           Cary|          0.8|     7.84|        Bike|        Meeting|        Carine|            9700998304|      YES|             3.6|         YES|   Uber wallet|             10%|   8.624|   Assigned|\n",
            "| 1/10/2016 8:05| 1/10/2016 8:25|     Kendre|         8900099665|           31| 265814|           Cary|    Morrisville|          8.3|    81.34|        Bike|        Meeting|      Collette|            9212537431|      YES|             3.9|         YES|   Uber wallet|             10%|  89.474|   Assigned|\n",
            "|1/10/2016 12:17|1/10/2016 12:44|      Aymer|         9918333307|           47| 386077|        Jamaica|       New York|         16.5|    161.7|        Bike| Customer Visit|        Killie|            9426616674|       NO|             4.2|         YES|   Uber wallet|             10%|  177.87|    Arrived|\n",
            "|1/10/2016 15:08|1/10/2016 15:51|     Gabbey|         9050095157|           59| 125733|       New York|         Queens|         10.8|   105.84|        Bike|        Meeting|       Ellette|            8949025277|       NO|             4.8|          NO|          cash|              0%|  105.84|   Assigned|\n",
            "+---------------+---------------+-----------+-------------------+-------------+-------+---------------+---------------+-------------+---------+------------+---------------+--------------+----------------------+---------+----------------+------------+--------------+----------------+--------+-----------+\n",
            "only showing top 10 rows\n",
            "\n"
          ]
        }
      ],
      "source": [
        "df=spark.read.csv(\"Customer_table.csv\",header=True,inferSchema=True,mode=\"DROPMALFORMED\")\n",
        "df.show(10)"
      ]
    },
    {
      "cell_type": "code",
      "execution_count": null,
      "id": "02b27225-0481-4c04-8ca3-867872f9d63e",
      "metadata": {
        "id": "02b27225-0481-4c04-8ca3-867872f9d63e",
        "outputId": "2c2b1e9f-bbf2-487d-ed44-45865f577dea"
      },
      "outputs": [
        {
          "name": "stdout",
          "output_type": "stream",
          "text": [
            "root\n",
            " |-- Pickup DateTime: string (nullable = true)\n",
            " |-- Drop DateTime: string (nullable = true)\n",
            " |-- Driver Name: string (nullable = true)\n",
            " |-- Driver Phone Number: long (nullable = true)\n",
            " |-- Trip Distance: integer (nullable = true)\n",
            " |-- Trip ID: integer (nullable = true)\n",
            " |-- Pickup Location: string (nullable = true)\n",
            " |-- Drop Location: string (nullable = true)\n",
            " |-- Trip Duration: double (nullable = true)\n",
            " |-- Trip Fare: double (nullable = true)\n",
            " |-- Vehicle Type: string (nullable = true)\n",
            " |-- Trip Purpose: string (nullable = true)\n",
            " |-- Passenger Name: string (nullable = true)\n",
            " |-- Passenger Phone Number: long (nullable = true)\n",
            " |-- Scheduled: string (nullable = true)\n",
            " |-- Passenger Rating: double (nullable = true)\n",
            " |-- Driver Rated: string (nullable = true)\n",
            " |-- Payment Method: string (nullable = true)\n",
            " |-- Payment Discount: string (nullable = true)\n",
            " |-- Net Fare: double (nullable = true)\n",
            " |-- Trip Status: string (nullable = true)\n",
            "\n"
          ]
        }
      ],
      "source": [
        "df.printSchema()"
      ]
    },
    {
      "cell_type": "markdown",
      "id": "2de76849-c376-4e50-83bd-17f24042d4cd",
      "metadata": {
        "id": "2de76849-c376-4e50-83bd-17f24042d4cd"
      },
      "source": [
        "# Admin Data"
      ]
    },
    {
      "cell_type": "code",
      "execution_count": null,
      "id": "7942bed5-ba13-42dd-999e-ed3200d034c5",
      "metadata": {
        "id": "7942bed5-ba13-42dd-999e-ed3200d034c5",
        "outputId": "848d30cf-0ccb-4fe8-ac68-52ee1444d59c"
      },
      "outputs": [
        {
          "name": "stdout",
          "output_type": "stream",
          "text": [
            "+---------------+---------------+-------+----------+---+---------+---------------+-----------+---------------+-----+-----------+-------------+---------------+-----+------+--------+--------+-----+-------------+---------+---------+---------+----------+----------+-----------+--------------+---------------+---------+----------+------------+--------+----------+---------+\n",
            "|     Start_time|       End_time|   Name|    Mobile|Age|Pin-Codes|         Source|Vaccine_cus|    Destination|Miles|Est_Costing|Ride_category|        Purpose| temp|clouds|pressure|humidity| wind|accquire_vehi|free_vehi|Lattitute|Longitude|locationID|rating_cus|Riders_Name|Riders_contact|Trusted_Contact|Rating_RI|Vaccine_Ri|Payment_mode|Discount|Final_cost|   Status|\n",
            "+---------------+---------------+-------+----------+---+---------+---------------+-----------+---------------+-----+-----------+-------------+---------------+-----+------+--------+--------+-----+-------------+---------+---------+---------+----------+----------+-----------+--------------+---------------+---------+----------+------------+--------+----------+---------+\n",
            "| 1/1/2016 21:11| 1/1/2016 21:17| Almire|9298608912| 21|   318886|    Fort Pierce|        YES|    Fort Pierce|  5.1|      49.98|         Bike| Meal/Entertain|42.42|   1.0| 1012.14|    0.77|11.25|           26|       17|   40.769| -73.9549|       141|         3|    Johanna|    9181026109|            YES|      3.6|       YES|        Gpay|      0%|     49.98|Cancelled|\n",
            "| 1/2/2016 20:25| 1/2/2016 20:38|Frazier|8621617385| 27|   318886|    Fort Pierce|        YES|    Fort Pierce|  4.8|      47.04|         Bike|Errand/Supplies|42.43|   1.0| 1012.15|    0.76|11.32|           45|       24|  40.7267| -74.0345|        65|         4|    Charlot|    9855403124|            YES|      4.5|       YES|      Phonpe|      0%|     47.04|  Arrived|\n",
            "| 1/5/2016 17:31| 1/5/2016 17:45| Editha|9954004976| 20|   318886|    Fort Pierce|        YES|    Fort Pierce|  4.7|      46.06|         Bike|        Meeting| 42.5|   1.0| 1012.15|    0.76|11.07|          731|       36|  40.7316| -73.9873|       100|         5|      Cissy|    9328907059|            YES|      4.8|       YES|       Paytm|      0%|     46.06| Assigned|\n",
            "| 1/6/2016 14:42| 1/6/2016 15:49|  Deeyn|9885727873| 34|   318886|    Fort Pierce|        YES|West Palm Beach| 63.7|     624.26|         Bike| Customer Visit|42.11|   1.0| 1012.13|    0.77|11.09|           10|        9|  40.7588| -73.9776|        80|         2|     Luelle|    9774674359|             NO|      4.9|       YES| Uber wallet|     10%|   561.834| Assigned|\n",
            "| 1/6/2016 17:15| 1/6/2016 17:19| Correy|9661756645| 28|   475241|West Palm Beach|         NO|West Palm Beach|  4.3|      42.14|         Bike| Meal/Entertain|43.13|   1.0| 1012.14|    0.75|11.49|          814|       62|  40.7594| -73.9722|        90|         3|      Myrle|    9425892986|             NO|      5.0|        NO|        cash|      0%|     42.14| Assigned|\n",
            "| 1/6/2016 17:30| 1/6/2016 17:35|  Bryan|8721880095| 50|   475241|West Palm Beach|        YES|     Palm Beach|  7.1|      69.58|         Bike|        Meeting|42.34|   1.0| 1012.15|    0.77|11.49|          220|       46|  40.7383| -74.0403|       228|         4|     Duncan|    9611855033|            YES|      3.0|       YES| Uber wallet|     10%|    62.622|  Arrived|\n",
            "| 1/7/2016 13:27| 1/7/2016 13:33| Crissy|8579258893| 68|   265814|           Cary|        YES|           Cary|  0.8|       7.84|         Bike|        Meeting|42.36|   1.0| 1012.15|    0.77|11.46|           36|       28|  40.7223| -73.9887|         7|         5|     Carine|    9700998304|            YES|      3.6|       YES| Uber wallet|     10%|     7.056| Assigned|\n",
            "| 1/10/2016 8:05| 1/10/2016 8:25| Kendre|8900099665| 31|   265814|           Cary|        YES|    Morrisville|  8.3|      81.34|         Bike|        Meeting|42.21|   1.0| 1012.16|    0.77|11.37|         1137|      106|   40.762|  -73.979|        74|         5|   Collette|    9212537431|            YES|      3.9|       YES| Uber wallet|     10%|    73.206| Assigned|\n",
            "|1/10/2016 12:17|1/10/2016 12:44|  Aymer|9918333307| 47|   386077|        Jamaica|        YES|       New York| 16.5|      161.7|         Bike| Customer Visit|42.07|   1.0| 1012.12|    0.78|11.28|          236|      103|  40.7524|  -73.996|       249|         5|     Killie|    9426616674|             NO|      4.2|       YES| Uber wallet|     10%|    145.53|  Arrived|\n",
            "|1/10/2016 15:08|1/10/2016 15:51| Gabbey|9050095157| 59|   125733|       New York|         NO|         Queens| 10.8|     105.84|         Bike|        Meeting|43.05|   1.0| 1012.12|    0.75|11.58|           47|       29|  40.7575| -73.9846|        22|         4|    Ellette|    8949025277|             NO|      4.8|        NO|        cash|      0%|    105.84| Assigned|\n",
            "+---------------+---------------+-------+----------+---+---------+---------------+-----------+---------------+-----+-----------+-------------+---------------+-----+------+--------+--------+-----+-------------+---------+---------+---------+----------+----------+-----------+--------------+---------------+---------+----------+------------+--------+----------+---------+\n",
            "only showing top 10 rows\n",
            "\n"
          ]
        }
      ],
      "source": [
        "df3=spark.read.csv(\"Admin_data.csv\",header=True,inferSchema=True,mode=\"DROPMALFORMED\")\n",
        "df3.show(10)"
      ]
    },
    {
      "cell_type": "code",
      "execution_count": null,
      "id": "1933e412-f8da-4624-825c-c58809886972",
      "metadata": {
        "id": "1933e412-f8da-4624-825c-c58809886972",
        "outputId": "a4e604ba-d576-4e95-eee3-4ec96308ede3"
      },
      "outputs": [
        {
          "name": "stdout",
          "output_type": "stream",
          "text": [
            "root\n",
            " |-- Start_time: string (nullable = true)\n",
            " |-- End_time: string (nullable = true)\n",
            " |-- Name: string (nullable = true)\n",
            " |-- Mobile: long (nullable = true)\n",
            " |-- Age: integer (nullable = true)\n",
            " |-- Pin-Codes: integer (nullable = true)\n",
            " |-- Source: string (nullable = true)\n",
            " |-- Vaccine_cus: string (nullable = true)\n",
            " |-- Destination: string (nullable = true)\n",
            " |-- Miles: double (nullable = true)\n",
            " |-- Est_Costing: double (nullable = true)\n",
            " |-- Ride_category: string (nullable = true)\n",
            " |-- Purpose: string (nullable = true)\n",
            " |-- temp: double (nullable = true)\n",
            " |-- clouds: double (nullable = true)\n",
            " |-- pressure: double (nullable = true)\n",
            " |-- humidity: double (nullable = true)\n",
            " |-- wind: double (nullable = true)\n",
            " |-- accquire_vehi: integer (nullable = true)\n",
            " |-- free_vehi: string (nullable = true)\n",
            " |-- Lattitute: double (nullable = true)\n",
            " |-- Longitude: double (nullable = true)\n",
            " |-- locationID: integer (nullable = true)\n",
            " |-- rating_cus: integer (nullable = true)\n",
            " |-- Riders_Name: string (nullable = true)\n",
            " |-- Riders_contact: long (nullable = true)\n",
            " |-- Trusted_Contact: string (nullable = true)\n",
            " |-- Rating_RI: double (nullable = true)\n",
            " |-- Vaccine_Ri: string (nullable = true)\n",
            " |-- Payment_mode: string (nullable = true)\n",
            " |-- Discount: string (nullable = true)\n",
            " |-- Final_cost: double (nullable = true)\n",
            " |-- Status: string (nullable = true)\n",
            "\n"
          ]
        }
      ],
      "source": [
        "df3.printSchema()"
      ]
    },
    {
      "cell_type": "code",
      "execution_count": null,
      "id": "115b9ce7-3a10-4455-8417-5e137ae5c787",
      "metadata": {
        "id": "115b9ce7-3a10-4455-8417-5e137ae5c787",
        "outputId": "f53e0366-8aae-4cc9-9a8b-0f10513823a9"
      },
      "outputs": [
        {
          "name": "stdout",
          "output_type": "stream",
          "text": [
            "+--------------+--------------+-------+----------+---+---------+---------------+-----------+---------------+-----+-----------+-------------+---------------+-----+------+--------+--------+-----+-------------+---------+---------+---------+----------+----------+-----------+--------------+---------------+---------+----------+------------+--------+----------+---------+\n",
            "|    Start_time|      End_time|   Name|    Mobile|Age|Pin-Codes|         Source|Vaccine_cus|    Destination|Miles|Est_Costing|Ride_category|        Purpose| temp|clouds|pressure|humidity| wind|accquire_vehi|free_vehi|Lattitute|Longitude|locationID|rating_cus|Riders_Name|Riders_contact|Trusted_Contact|Rating_RI|Vaccine_Ri|Payment_mode|Discount|Final_cost|   Status|\n",
            "+--------------+--------------+-------+----------+---+---------+---------------+-----------+---------------+-----+-----------+-------------+---------------+-----+------+--------+--------+-----+-------------+---------+---------+---------+----------+----------+-----------+--------------+---------------+---------+----------+------------+--------+----------+---------+\n",
            "|1/1/2016 21:11|1/1/2016 21:17| Almire|9298608912| 21|   318886|    Fort Pierce|        YES|    Fort Pierce|  5.1|      49.98|         Bike| Meal/Entertain|42.42|   1.0| 1012.14|    0.77|11.25|           26|       17|   40.769| -73.9549|       141|         3|    Johanna|    9181026109|            YES|      3.6|       YES|        Gpay|      0%|     49.98|Cancelled|\n",
            "|1/2/2016 20:25|1/2/2016 20:38|Frazier|8621617385| 27|   318886|    Fort Pierce|        YES|    Fort Pierce|  4.8|      47.04|         Bike|Errand/Supplies|42.43|   1.0| 1012.15|    0.76|11.32|           45|       24|  40.7267| -74.0345|        65|         4|    Charlot|    9855403124|            YES|      4.5|       YES|      Phonpe|      0%|     47.04|  Arrived|\n",
            "|1/5/2016 17:31|1/5/2016 17:45| Editha|9954004976| 20|   318886|    Fort Pierce|        YES|    Fort Pierce|  4.7|      46.06|         Bike|        Meeting| 42.5|   1.0| 1012.15|    0.76|11.07|          731|       36|  40.7316| -73.9873|       100|         5|      Cissy|    9328907059|            YES|      4.8|       YES|       Paytm|      0%|     46.06| Assigned|\n",
            "|1/6/2016 14:42|1/6/2016 15:49|  Deeyn|9885727873| 34|   318886|    Fort Pierce|        YES|West Palm Beach| 63.7|     624.26|         Bike| Customer Visit|42.11|   1.0| 1012.13|    0.77|11.09|           10|        9|  40.7588| -73.9776|        80|         2|     Luelle|    9774674359|             NO|      4.9|       YES| Uber wallet|     10%|   561.834| Assigned|\n",
            "|1/6/2016 17:15|1/6/2016 17:19| Correy|9661756645| 28|   475241|West Palm Beach|         NO|West Palm Beach|  4.3|      42.14|         Bike| Meal/Entertain|43.13|   1.0| 1012.14|    0.75|11.49|          814|       62|  40.7594| -73.9722|        90|         3|      Myrle|    9425892986|             NO|      5.0|        NO|        cash|      0%|     42.14| Assigned|\n",
            "+--------------+--------------+-------+----------+---+---------+---------------+-----------+---------------+-----+-----------+-------------+---------------+-----+------+--------+--------+-----+-------------+---------+---------+---------+----------+----------+-----------+--------------+---------------+---------+----------+------------+--------+----------+---------+\n",
            "only showing top 5 rows\n",
            "\n"
          ]
        }
      ],
      "source": [
        "df3=spark.read.csv(\"Admin_data.csv\",header=True,inferSchema=True,mode=\"DROPMALFORMED\")\n",
        "df3.show(5)"
      ]
    },
    {
      "cell_type": "code",
      "execution_count": null,
      "id": "4157432f-80e5-4214-a5fb-b5e323e626a2",
      "metadata": {
        "id": "4157432f-80e5-4214-a5fb-b5e323e626a2",
        "outputId": "49ba7e3d-0bd9-4027-b77a-f7c911edf437"
      },
      "outputs": [
        {
          "name": "stdout",
          "output_type": "stream",
          "text": [
            "root\n",
            " |-- Start_time: string (nullable = true)\n",
            " |-- End_time: string (nullable = true)\n",
            " |-- Name: string (nullable = true)\n",
            " |-- Mobile: long (nullable = true)\n",
            " |-- Age: integer (nullable = true)\n",
            " |-- Pin-Codes: integer (nullable = true)\n",
            " |-- Source: string (nullable = true)\n",
            " |-- Vaccine_cus: string (nullable = true)\n",
            " |-- Destination: string (nullable = true)\n",
            " |-- Miles: double (nullable = true)\n",
            " |-- Est_Costing: double (nullable = true)\n",
            " |-- Ride_category: string (nullable = true)\n",
            " |-- Purpose: string (nullable = true)\n",
            " |-- temp: double (nullable = true)\n",
            " |-- clouds: double (nullable = true)\n",
            " |-- pressure: double (nullable = true)\n",
            " |-- humidity: double (nullable = true)\n",
            " |-- wind: double (nullable = true)\n",
            " |-- accquire_vehi: integer (nullable = true)\n",
            " |-- free_vehi: string (nullable = true)\n",
            " |-- Lattitute: double (nullable = true)\n",
            " |-- Longitude: double (nullable = true)\n",
            " |-- locationID: integer (nullable = true)\n",
            " |-- rating_cus: integer (nullable = true)\n",
            " |-- Riders_Name: string (nullable = true)\n",
            " |-- Riders_contact: long (nullable = true)\n",
            " |-- Trusted_Contact: string (nullable = true)\n",
            " |-- Rating_RI: double (nullable = true)\n",
            " |-- Vaccine_Ri: string (nullable = true)\n",
            " |-- Payment_mode: string (nullable = true)\n",
            " |-- Discount: string (nullable = true)\n",
            " |-- Final_cost: double (nullable = true)\n",
            " |-- Status: string (nullable = true)\n",
            "\n"
          ]
        }
      ],
      "source": [
        "df3.printSchema()"
      ]
    },
    {
      "cell_type": "markdown",
      "id": "48f05276-a101-404d-9635-8973110fb1cb",
      "metadata": {
        "id": "48f05276-a101-404d-9635-8973110fb1cb"
      },
      "source": [
        "# 1.How many no of customers take trip from same location."
      ]
    },
    {
      "cell_type": "code",
      "execution_count": null,
      "id": "b8817344-910c-4979-92c1-2d72f10e22f2",
      "metadata": {
        "id": "b8817344-910c-4979-92c1-2d72f10e22f2",
        "outputId": "18c0d191-9e62-494a-8635-fb2d2bb8bbe4"
      },
      "outputs": [
        {
          "name": "stdout",
          "output_type": "stream",
          "text": [
            "+-----------------+--------------+\n",
            "|  Pickup Location|customer_count|\n",
            "+-----------------+--------------+\n",
            "|      Fort Pierce|           108|\n",
            "|          Midtown|            78|\n",
            "|  West Palm Beach|            54|\n",
            "|             Cary|            52|\n",
            "|  Lower Manhattan|            26|\n",
            "|     Midtown East|            26|\n",
            "|Flatiron District|            26|\n",
            "|      East Harlem|            26|\n",
            "|    Hudson Square|            26|\n",
            "|          Jamaica|            26|\n",
            "|         New York|            26|\n",
            "|         Elmhurst|            26|\n",
            "+-----------------+--------------+\n",
            "\n"
          ]
        }
      ],
      "source": [
        "from pyspark.sql.functions import count\n",
        "df.groupBy(\"Pickup Location\").agg(count(\"Passenger Name\").alias(\"customer_count\")).orderBy('customer_count',ascending=False).show()"
      ]
    },
    {
      "cell_type": "markdown",
      "id": "e26f4efc-c215-4ac8-895d-89cdf7ffa068",
      "metadata": {
        "id": "e26f4efc-c215-4ac8-895d-89cdf7ffa068"
      },
      "source": [
        "# 2.what is priority for each ride category from each location."
      ]
    },
    {
      "cell_type": "code",
      "execution_count": null,
      "id": "e92fc262-7f37-4f2c-84ac-f52a0b571433",
      "metadata": {
        "id": "e92fc262-7f37-4f2c-84ac-f52a0b571433"
      },
      "outputs": [],
      "source": []
    },
    {
      "cell_type": "markdown",
      "id": "3ebadc51-0e8c-4263-9472-2068e3cc173b",
      "metadata": {
        "id": "3ebadc51-0e8c-4263-9472-2068e3cc173b"
      },
      "source": [
        "# 3.what are the longest locations of customer travelled."
      ]
    },
    {
      "cell_type": "code",
      "execution_count": null,
      "id": "a84ac783-56db-40f5-9502-e0df3ae2889e",
      "metadata": {
        "id": "a84ac783-56db-40f5-9502-e0df3ae2889e",
        "outputId": "0b7a5a9d-0946-4245-eaa3-745759759167"
      },
      "outputs": [
        {
          "name": "stdout",
          "output_type": "stream",
          "text": [
            "+--------------+---------------+-------------+-------------+\n",
            "|Passenger Name|Pickup Location|Drop Location|Trip Distance|\n",
            "+--------------+---------------+-------------+-------------+\n",
            "|      Virginie|       Elmhurst|         Cary|           80|\n",
            "|      Charlena|   Midtown East|       Durham|           80|\n",
            "|         Price|    East Harlem|  Whitebridge|           80|\n",
            "|      Darlleen|    Fort Pierce|         Cary|           80|\n",
            "|        Haskel|           Cary|  Whitebridge|           80|\n",
            "|         Jacky|West Palm Beach|      Houston|           80|\n",
            "|      Collette|    Fort Pierce|   Tanglewood|           80|\n",
            "|          Moss|Lower Manhattan|  Morrisville|           80|\n",
            "|          Elsy|       New York|         Cary|           79|\n",
            "|         Daron|    Fort Pierce|         Cary|           79|\n",
            "+--------------+---------------+-------------+-------------+\n",
            "\n"
          ]
        }
      ],
      "source": [
        "df.orderBy('Trip Distance',ascending=False).select('Passenger Name','Pickup Location','Drop Location','Trip Distance').limit(10).show()"
      ]
    },
    {
      "cell_type": "markdown",
      "id": "c2612b45-7c5b-4b62-b848-818603b9cfef",
      "metadata": {
        "id": "c2612b45-7c5b-4b62-b848-818603b9cfef"
      },
      "source": [
        "# 4. Drivers who completed ride with non -vaccinated customers."
      ]
    },
    {
      "cell_type": "code",
      "execution_count": null,
      "id": "2300307b-ea16-4ed9-b3fc-3c953149673f",
      "metadata": {
        "id": "2300307b-ea16-4ed9-b3fc-3c953149673f",
        "outputId": "c3626254-3050-4743-b470-0d8b34d1152f"
      },
      "outputs": [
        {
          "name": "stdout",
          "output_type": "stream",
          "text": [
            "+-------+\n",
            "|   Name|\n",
            "+-------+\n",
            "| Correy|\n",
            "| Gabbey|\n",
            "|Mathian|\n",
            "|Huntlee|\n",
            "|   Clim|\n",
            "|Geordie|\n",
            "| Horten|\n",
            "|    Ray|\n",
            "|  Boyce|\n",
            "|   Berk|\n",
            "| Aubert|\n",
            "|Stavros|\n",
            "| Norene|\n",
            "|  Stace|\n",
            "| Stefan|\n",
            "|Cassius|\n",
            "| Crysta|\n",
            "|  Chadd|\n",
            "|    Val|\n",
            "|  Glori|\n",
            "+-------+\n",
            "only showing top 20 rows\n",
            "\n"
          ]
        }
      ],
      "source": [
        "df3.filter(df3.Vaccine_cus=='NO').select(\"Name\").show()"
      ]
    },
    {
      "cell_type": "markdown",
      "id": "04ae03f2-9065-45f0-968c-b27a5963646b",
      "metadata": {
        "id": "04ae03f2-9065-45f0-968c-b27a5963646b"
      },
      "source": [
        "# 5.How many vaccinated customers have travelled"
      ]
    },
    {
      "cell_type": "code",
      "execution_count": null,
      "id": "aa327e61-4156-435f-a2b0-212a4f866054",
      "metadata": {
        "id": "aa327e61-4156-435f-a2b0-212a4f866054",
        "outputId": "5d85ebb2-267a-43e3-c6aa-3e74e4dfb0ab"
      },
      "outputs": [
        {
          "name": "stdout",
          "output_type": "stream",
          "text": [
            "400 vaccinated customers have travelled\n"
          ]
        }
      ],
      "source": [
        "print(f\"{df3.filter(df3.Vaccine_cus=='YES').count()} vaccinated customers have travelled\")"
      ]
    },
    {
      "cell_type": "markdown",
      "id": "0de1e77e-9a7d-4365-a99e-5b6718537c30",
      "metadata": {
        "id": "0de1e77e-9a7d-4365-a99e-5b6718537c30"
      },
      "source": [
        "# 6. .Customers who completed ride with non -vaccinated Drivers"
      ]
    },
    {
      "cell_type": "code",
      "execution_count": null,
      "id": "9920ff91-7f0d-4ce7-a4b6-3d2b147a80f7",
      "metadata": {
        "id": "9920ff91-7f0d-4ce7-a4b6-3d2b147a80f7",
        "outputId": "22ab81e2-2076-4123-88f9-4d4acb2a033a"
      },
      "outputs": [
        {
          "name": "stdout",
          "output_type": "stream",
          "text": [
            "+-----------+\n",
            "|Riders_Name|\n",
            "+-----------+\n",
            "|      Myrle|\n",
            "|    Ellette|\n",
            "|     Mikkel|\n",
            "|       Abbi|\n",
            "|       Dora|\n",
            "|     Pattin|\n",
            "|        Kip|\n",
            "|     Haskel|\n",
            "|      Cindi|\n",
            "|    Yasmeen|\n",
            "|       Burk|\n",
            "|      Natty|\n",
            "|       Kain|\n",
            "|        Pen|\n",
            "|      Sandy|\n",
            "|   Kimberly|\n",
            "|        Tim|\n",
            "|    Carolus|\n",
            "|      Marta|\n",
            "|    Romonda|\n",
            "+-----------+\n",
            "only showing top 20 rows\n",
            "\n"
          ]
        }
      ],
      "source": [
        "df3.filter(df3.Vaccine_Ri=='NO').select(\"Riders_Name\").show()"
      ]
    },
    {
      "cell_type": "markdown",
      "id": "44ac9e6a-8f08-44b0-bb73-a074013e945f",
      "metadata": {
        "id": "44ac9e6a-8f08-44b0-bb73-a074013e945f"
      },
      "source": [
        "# 7.who is the customer completed highest no of rides."
      ]
    },
    {
      "cell_type": "code",
      "execution_count": null,
      "id": "1d2fc9be-fcbd-4bf0-8868-266bbcbb203a",
      "metadata": {
        "id": "1d2fc9be-fcbd-4bf0-8868-266bbcbb203a",
        "outputId": "46c8725b-20ed-48fb-c73b-fbcd28d8f70f"
      },
      "outputs": [
        {
          "name": "stdout",
          "output_type": "stream",
          "text": [
            "+--------------+----------+\n",
            "|Passenger Name|trip_count|\n",
            "+--------------+----------+\n",
            "|          Cher|        10|\n",
            "+--------------+----------+\n",
            "\n"
          ]
        }
      ],
      "source": [
        "from pyspark.sql.functions import count\n",
        "df.groupBy(\"Passenger Name\").agg(count(\"Trip ID\").alias(\"trip_count\")).orderBy('trip_count',ascending=False).limit(1).show()"
      ]
    },
    {
      "cell_type": "markdown",
      "id": "dafa162b-24df-4b00-b635-c5a3d824873a",
      "metadata": {
        "id": "dafa162b-24df-4b00-b635-c5a3d824873a"
      },
      "source": [
        "# 8.who is the driver completed highest no of rides."
      ]
    },
    {
      "cell_type": "code",
      "execution_count": null,
      "id": "4ac967d1-e0a5-404f-bf42-210732954c56",
      "metadata": {
        "id": "4ac967d1-e0a5-404f-bf42-210732954c56",
        "outputId": "99405fe8-be21-4d03-a174-01792280a6bb"
      },
      "outputs": [
        {
          "name": "stdout",
          "output_type": "stream",
          "text": [
            "+---------+-----+\n",
            "|     Name|count|\n",
            "+---------+-----+\n",
            "|  Mathian|    2|\n",
            "|   Bidget|    2|\n",
            "|   Teresa|    2|\n",
            "|    Mayne|    2|\n",
            "|Westbrook|    2|\n",
            "|    Debor|    2|\n",
            "|   Raeann|    2|\n",
            "|      Gus|    2|\n",
            "|  Othello|    2|\n",
            "|  Frazier|    2|\n",
            "| Roderigo|    2|\n",
            "+---------+-----+\n",
            "\n"
          ]
        }
      ],
      "source": [
        "df3.groupBy('Name').count().orderBy('count',ascending=False).limit(11).show()"
      ]
    },
    {
      "cell_type": "markdown",
      "id": "d18d2173-5892-4fab-9ed0-2613485a9dae",
      "metadata": {
        "id": "d18d2173-5892-4fab-9ed0-2613485a9dae"
      },
      "source": [
        "# 9.what are first 10 age groups which uses uber services mostly."
      ]
    },
    {
      "cell_type": "code",
      "execution_count": null,
      "id": "15977588-08d2-419c-80ab-0626a6a1a09b",
      "metadata": {
        "id": "15977588-08d2-419c-80ab-0626a6a1a09b",
        "outputId": "1d85ac50-7dbf-4114-c6d1-f29db117174f"
      },
      "outputs": [
        {
          "name": "stdout",
          "output_type": "stream",
          "text": [
            "+---+------------------+\n",
            "|Age|customer_age_count|\n",
            "+---+------------------+\n",
            "| 69|                16|\n",
            "| 15|                15|\n",
            "| 32|                15|\n",
            "| 28|                12|\n",
            "| 78|                11|\n",
            "| 43|                11|\n",
            "| 49|                11|\n",
            "| 21|                11|\n",
            "| 23|                10|\n",
            "| 44|                10|\n",
            "+---+------------------+\n",
            "\n"
          ]
        }
      ],
      "source": [
        "from pyspark.sql.functions import count\n",
        "df3.groupBy(\"Age\").agg(count('Riders_Name').alias('customer_age_count')).orderBy('customer_age_count',ascending=False).limit(10).show()"
      ]
    },
    {
      "cell_type": "markdown",
      "id": "8e887239-9b4a-4fb7-a9ae-c6ea89582753",
      "metadata": {
        "id": "8e887239-9b4a-4fb7-a9ae-c6ea89582753"
      },
      "source": [
        "# 10.what is the count of different destination locations from same start location and also completed ride"
      ]
    },
    {
      "cell_type": "code",
      "execution_count": null,
      "id": "e077065b-a611-4b8e-a58a-a2cca3dd4285",
      "metadata": {
        "id": "e077065b-a611-4b8e-a58a-a2cca3dd4285"
      },
      "outputs": [],
      "source": [
        "from pyspark.sql.functions import countDistinct\n",
        "\n",
        "df.filter(df.Source=='Arrived').groupBy()"
      ]
    }
  ],
  "metadata": {
    "kernelspec": {
      "display_name": "PySpark",
      "language": "python",
      "name": "pyspark"
    },
    "language_info": {
      "codemirror_mode": {
        "name": "ipython",
        "version": 3
      },
      "file_extension": ".py",
      "mimetype": "text/x-python",
      "name": "python",
      "nbconvert_exporter": "python",
      "pygments_lexer": "ipython3",
      "version": "3.11.0"
    },
    "colab": {
      "provenance": []
    }
  },
  "nbformat": 4,
  "nbformat_minor": 5
}