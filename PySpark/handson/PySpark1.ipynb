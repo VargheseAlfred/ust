{
  "nbformat": 4,
  "nbformat_minor": 0,
  "metadata": {
    "colab": {
      "provenance": []
    },
    "kernelspec": {
      "name": "python3",
      "display_name": "Python 3"
    },
    "language_info": {
      "name": "python"
    }
  },
  "cells": [
    {
      "cell_type": "code",
      "source": [],
      "metadata": {
        "id": "FsRpndLoywjO"
      },
      "execution_count": null,
      "outputs": []
    },
    {
      "cell_type": "code",
      "execution_count": null,
      "metadata": {
        "colab": {
          "base_uri": "https://localhost:8080/"
        },
        "id": "81kZOyviNRuu",
        "outputId": "0675949f-bbb2-48f3-b868-d31baf0ba393"
      },
      "outputs": [
        {
          "output_type": "stream",
          "name": "stdout",
          "text": [
            "Spark version: 3.5.1\n"
          ]
        }
      ],
      "source": [
        "\n",
        "from pyspark.sql import SparkSession\n",
        "spark = SparkSession.builder.appName(\"MyApp\").master(\"local[*]\").getOrCreate()\n",
        "print(\"Spark version:\",spark.version)"
      ]
    },
    {
      "cell_type": "code",
      "source": [
        "from pyspark import SparkContext\n",
        "sc= SparkContext(\"local\",\"ParallelizeExample\")"
      ],
      "metadata": {
        "id": "lVh7POCedCWD"
      },
      "execution_count": null,
      "outputs": []
    },
    {
      "cell_type": "code",
      "source": [
        "rdd=sc.parallelize([1,2,3,4,5])"
      ],
      "metadata": {
        "id": "1NAuhyctdJwf"
      },
      "execution_count": null,
      "outputs": []
    },
    {
      "cell_type": "code",
      "source": [
        "rdd.collect()"
      ],
      "metadata": {
        "colab": {
          "base_uri": "https://localhost:8080/"
        },
        "id": "OF4zhyfKditj",
        "outputId": "c891d33e-568c-4f54-9c0e-d40438f446dd"
      },
      "execution_count": null,
      "outputs": [
        {
          "output_type": "execute_result",
          "data": {
            "text/plain": [
              "[1, 2, 3, 4, 5]"
            ]
          },
          "metadata": {},
          "execution_count": 8
        }
      ]
    },
    {
      "cell_type": "code",
      "source": [
        "print(rdd.count())"
      ],
      "metadata": {
        "colab": {
          "base_uri": "https://localhost:8080/"
        },
        "id": "LJDldzU9dms9",
        "outputId": "10d90d72-226b-4313-bd9a-158b5b57856e"
      },
      "execution_count": null,
      "outputs": [
        {
          "output_type": "stream",
          "name": "stdout",
          "text": [
            "5\n"
          ]
        }
      ]
    },
    {
      "cell_type": "code",
      "source": [
        "rdd.first()"
      ],
      "metadata": {
        "colab": {
          "base_uri": "https://localhost:8080/"
        },
        "id": "ZVOxeZljdsj5",
        "outputId": "f113a7ae-04c0-4a62-e18a-3389f5442362"
      },
      "execution_count": null,
      "outputs": [
        {
          "output_type": "execute_result",
          "data": {
            "text/plain": [
              "1"
            ]
          },
          "metadata": {},
          "execution_count": 10
        }
      ]
    },
    {
      "cell_type": "code",
      "source": [
        "rdd.take(3)"
      ],
      "metadata": {
        "colab": {
          "base_uri": "https://localhost:8080/"
        },
        "id": "45K9Mjbad4ka",
        "outputId": "af110599-88e3-49b5-ddfa-ccadaf7e1fcd"
      },
      "execution_count": null,
      "outputs": [
        {
          "output_type": "execute_result",
          "data": {
            "text/plain": [
              "[1, 2, 3]"
            ]
          },
          "metadata": {},
          "execution_count": 11
        }
      ]
    },
    {
      "cell_type": "code",
      "source": [
        "rdd.map(lambda x:x*2).collect()"
      ],
      "metadata": {
        "colab": {
          "base_uri": "https://localhost:8080/"
        },
        "id": "7U8nekMyd7fn",
        "outputId": "58bcd01e-8cbe-4d27-b373-54a351e0c1d4"
      },
      "execution_count": null,
      "outputs": [
        {
          "output_type": "execute_result",
          "data": {
            "text/plain": [
              "[2, 4, 6, 8, 10]"
            ]
          },
          "metadata": {},
          "execution_count": 12
        }
      ]
    },
    {
      "cell_type": "code",
      "source": [
        "rdd.distinct().collect()"
      ],
      "metadata": {
        "colab": {
          "base_uri": "https://localhost:8080/"
        },
        "id": "LFu7TBg7eZWL",
        "outputId": "e47a96d5-e99d-4821-a80e-b91a764dc801"
      },
      "execution_count": null,
      "outputs": [
        {
          "output_type": "execute_result",
          "data": {
            "text/plain": [
              "[1, 2, 3, 4, 5]"
            ]
          },
          "metadata": {},
          "execution_count": 13
        }
      ]
    },
    {
      "cell_type": "markdown",
      "source": [
        "to reverse"
      ],
      "metadata": {
        "id": "fTBAljeue9V8"
      }
    },
    {
      "cell_type": "code",
      "source": [
        "rdd.sortBy(lambda x:-x).collect()"
      ],
      "metadata": {
        "colab": {
          "base_uri": "https://localhost:8080/"
        },
        "id": "VMs_sbb-ekMM",
        "outputId": "68ca5ff8-a73e-4104-d17e-d47433cae2c2"
      },
      "execution_count": null,
      "outputs": [
        {
          "output_type": "execute_result",
          "data": {
            "text/plain": [
              "[5, 4, 3, 2, 1]"
            ]
          },
          "metadata": {},
          "execution_count": 14
        }
      ]
    },
    {
      "cell_type": "code",
      "source": [
        "# prompt: rdd commands in python\n",
        "\n",
        "rdd.reduce(lambda x,y:x+y)\n",
        "rdd.filter(lambda x : x%2==0).collect()\n",
        "rdd.flatMap(lambda x: [x, x*2]).collect()\n",
        "rdd.union(sc.parallelize([6,7,8])).collect()\n",
        "rdd.intersection(sc.parallelize([3,4,5])).collect()\n",
        "rdd.subtract(sc.parallelize([3,4])).collect()\n",
        "rdd.cartesian(sc.parallelize([6,7])).collect()\n",
        "\n"
      ],
      "metadata": {
        "colab": {
          "base_uri": "https://localhost:8080/"
        },
        "id": "jOFwkuL9ewLz",
        "outputId": "89f1838f-002b-4b42-8087-1cea84039441"
      },
      "execution_count": null,
      "outputs": [
        {
          "output_type": "execute_result",
          "data": {
            "text/plain": [
              "[(1, 6),\n",
              " (1, 7),\n",
              " (2, 6),\n",
              " (2, 7),\n",
              " (3, 6),\n",
              " (3, 7),\n",
              " (4, 6),\n",
              " (4, 7),\n",
              " (5, 6),\n",
              " (5, 7)]"
            ]
          },
          "metadata": {},
          "execution_count": 15
        }
      ]
    },
    {
      "cell_type": "code",
      "source": [
        "rdd1=sc.parallelize([5,6,7,8])"
      ],
      "metadata": {
        "id": "4s8DEphgfTMJ"
      },
      "execution_count": null,
      "outputs": []
    },
    {
      "cell_type": "code",
      "source": [
        "rdd.union(rdd1).collect()"
      ],
      "metadata": {
        "colab": {
          "base_uri": "https://localhost:8080/"
        },
        "id": "g_XEQGfBfihC",
        "outputId": "89bcc55e-f87e-443e-cc5f-3307defc9031"
      },
      "execution_count": null,
      "outputs": [
        {
          "output_type": "execute_result",
          "data": {
            "text/plain": [
              "[1, 2, 3, 4, 5, 5, 6, 7, 8]"
            ]
          },
          "metadata": {},
          "execution_count": 17
        }
      ]
    },
    {
      "cell_type": "code",
      "source": [
        "rdd.cartesian(rdd1).collect()"
      ],
      "metadata": {
        "colab": {
          "base_uri": "https://localhost:8080/"
        },
        "id": "qZ0EShPdfpbE",
        "outputId": "2f019e69-736b-43ac-e540-bf42f7c2bb21"
      },
      "execution_count": null,
      "outputs": [
        {
          "output_type": "execute_result",
          "data": {
            "text/plain": [
              "[(1, 5),\n",
              " (1, 6),\n",
              " (1, 7),\n",
              " (1, 8),\n",
              " (2, 5),\n",
              " (2, 6),\n",
              " (2, 7),\n",
              " (2, 8),\n",
              " (3, 5),\n",
              " (3, 6),\n",
              " (3, 7),\n",
              " (3, 8),\n",
              " (4, 5),\n",
              " (4, 6),\n",
              " (4, 7),\n",
              " (4, 8),\n",
              " (5, 5),\n",
              " (5, 6),\n",
              " (5, 7),\n",
              " (5, 8)]"
            ]
          },
          "metadata": {},
          "execution_count": 18
        }
      ]
    },
    {
      "cell_type": "markdown",
      "source": [
        "Key value pair\n"
      ],
      "metadata": {
        "id": "kkES84uDgt-5"
      }
    },
    {
      "cell_type": "code",
      "source": [
        "pair_rdd=sc.parallelize([(1,2),(1,3),(2,3),(2,4),(3,2),(4,3),(5,9),(5,8),(5,5)])"
      ],
      "metadata": {
        "id": "OQyN3nr2f0gp"
      },
      "execution_count": null,
      "outputs": []
    },
    {
      "cell_type": "markdown",
      "source": [
        "GroupByKey\n"
      ],
      "metadata": {
        "id": "uybShrfpgzbO"
      }
    },
    {
      "cell_type": "code",
      "source": [
        "pair_rdd.groupByKey().mapValues(list).collect()"
      ],
      "metadata": {
        "colab": {
          "base_uri": "https://localhost:8080/"
        },
        "id": "NvVD2CJugTIU",
        "outputId": "075885ff-2253-4e09-d5dc-36720f6f72ca"
      },
      "execution_count": null,
      "outputs": [
        {
          "output_type": "execute_result",
          "data": {
            "text/plain": [
              "[(1, [2, 3]), (2, [3, 4]), (3, [2]), (4, [3]), (5, [9, 8, 5])]"
            ]
          },
          "metadata": {},
          "execution_count": 24
        }
      ]
    },
    {
      "cell_type": "markdown",
      "source": [
        "ReduceByKey"
      ],
      "metadata": {
        "id": "jzUza_nAg4i8"
      }
    },
    {
      "cell_type": "code",
      "source": [
        "pair_rdd.reduceByKey(lambda x,y:x+y).collect()"
      ],
      "metadata": {
        "colab": {
          "base_uri": "https://localhost:8080/"
        },
        "id": "RCZYFNHzgaNF",
        "outputId": "16cff9c1-fc13-4640-b5bd-b1bcaabd808c"
      },
      "execution_count": null,
      "outputs": [
        {
          "output_type": "execute_result",
          "data": {
            "text/plain": [
              "[(1, 5), (2, 7), (3, 2), (4, 3), (5, 22)]"
            ]
          },
          "metadata": {},
          "execution_count": 27
        }
      ]
    },
    {
      "cell_type": "markdown",
      "source": [
        "CountByValue"
      ],
      "metadata": {
        "id": "JkkdyBzphAbu"
      }
    },
    {
      "cell_type": "code",
      "source": [
        "pair_rdd.countByValue()"
      ],
      "metadata": {
        "colab": {
          "base_uri": "https://localhost:8080/"
        },
        "id": "U8VGRN5ngqC1",
        "outputId": "ca6a11df-27da-41e0-9fea-5def1a385602"
      },
      "execution_count": null,
      "outputs": [
        {
          "output_type": "execute_result",
          "data": {
            "text/plain": [
              "defaultdict(int,\n",
              "            {(1, 2): 1,\n",
              "             (1, 3): 1,\n",
              "             (2, 3): 1,\n",
              "             (2, 4): 1,\n",
              "             (3, 2): 1,\n",
              "             (4, 3): 1,\n",
              "             (5, 9): 1,\n",
              "             (5, 8): 1,\n",
              "             (5, 5): 1})"
            ]
          },
          "metadata": {},
          "execution_count": 28
        }
      ]
    },
    {
      "cell_type": "code",
      "source": [
        "emp_data =[\n",
        "    ['001','101','John Doe','30','Male','50000','2015-01-01'],\n",
        "    ['002','102','Jane Smith','35','Female','60000','2016-02-01'],\n",
        "    ['003','103','Bob Johnson','40','Male','70000','2017-03-01'],\n",
        "    ['004','104','Alice Brown','45','Female','80000','2018-04-01'],\n",
        "]"
      ],
      "metadata": {
        "id": "kolHcJC6hJxp"
      },
      "execution_count": null,
      "outputs": []
    },
    {
      "cell_type": "code",
      "source": [
        "columns = 'employee_id string,department_id string,employee_name string,age string,gender string,salary string,hire_date string'"
      ],
      "metadata": {
        "id": "L4h-BvhLmCsR"
      },
      "execution_count": null,
      "outputs": []
    },
    {
      "cell_type": "code",
      "source": [
        "emp=spark.createDataFrame(data=emp_data,schema=columns)"
      ],
      "metadata": {
        "id": "aurQ8vb4yh6a"
      },
      "execution_count": null,
      "outputs": []
    },
    {
      "cell_type": "code",
      "source": [],
      "metadata": {
        "id": "erBhwDyBzYpr"
      },
      "execution_count": null,
      "outputs": []
    }
  ]
}