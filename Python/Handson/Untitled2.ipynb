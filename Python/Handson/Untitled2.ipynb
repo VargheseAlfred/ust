{
 "cells": [
  {
   "cell_type": "code",
   "execution_count": 13,
   "id": "caef34c0-2d17-42f4-9d02-de20c3da02cf",
   "metadata": {},
   "outputs": [
    {
     "name": "stdout",
     "output_type": "stream",
     "text": [
      "the value of a is 10 and the value of b is 20\n",
      "the value of a is 10 and the value of b is 20\n"
     ]
    }
   ],
   "source": [
    "\n",
    "a = 10\n",
    "b = 20\n",
    "print(\"the value of a is {} and the value of b is {}\".format(a,b))\n",
    "print(\"the value of a is {1} and the value of b is {0}\".format(b,a))"
   ]
  },
  {
   "cell_type": "code",
   "execution_count": 14,
   "id": "accde9e4-b92f-4ff3-bb82-d3cc7d51fc9c",
   "metadata": {},
   "outputs": [
    {
     "name": "stdout",
     "output_type": "stream",
     "text": [
      "i love my country , name_is India\n"
     ]
    }
   ],
   "source": [
    "my = \"country\"\n",
    "name_is = \"India\"\n",
    "print(\"i love my {1} , name_is {0}\".format(name_is,my))"
   ]
  },
  {
   "cell_type": "code",
   "execution_count": 17,
   "id": "91acafe5-6237-455a-800d-c1de5b86d05e",
   "metadata": {},
   "outputs": [],
   "source": [
    "#pass by reference or pass by value"
   ]
  },
  {
   "cell_type": "code",
   "execution_count": 15,
   "id": "866ab58a-0a47-41eb-a83f-974b3c36acf4",
   "metadata": {},
   "outputs": [
    {
     "name": "stdout",
     "output_type": "stream",
     "text": [
      "my name is Bill,Gate from Microsoft\n"
     ]
    }
   ],
   "source": [
    "#print without reference variable or pass by value\n",
    "\n",
    "print(\"my name is {},{} from {}\".format('Bill','Gate','Microsoft'))"
   ]
  },
  {
   "cell_type": "code",
   "execution_count": 16,
   "id": "f8d34199-c650-4a50-94f7-c66491cc0fbf",
   "metadata": {},
   "outputs": [
    {
     "name": "stdin",
     "output_type": "stream",
     "text": [
      "enter a value:  34\n"
     ]
    },
    {
     "name": "stdout",
     "output_type": "stream",
     "text": [
      "34\n"
     ]
    }
   ],
   "source": [
    "num = input(\"enter a value: \")\n",
    "print(num)"
   ]
  },
  {
   "cell_type": "code",
   "execution_count": 18,
   "id": "0c4c4bf1-6c3c-4e26-bdf9-d39cd1fc151c",
   "metadata": {},
   "outputs": [
    {
     "name": "stdin",
     "output_type": "stream",
     "text": [
      "enter the value: 32\n"
     ]
    },
    {
     "name": "stdout",
     "output_type": "stream",
     "text": [
      "32\n"
     ]
    }
   ],
   "source": [
    "num = int(input(\"enter the value:\"))\n",
    "print(num)"
   ]
  },
  {
   "cell_type": "code",
   "execution_count": 19,
   "id": "5c280ec8-2f26-4b14-bcc0-c1a010b8b95b",
   "metadata": {},
   "outputs": [
    {
     "name": "stdin",
     "output_type": "stream",
     "text": [
      "enter 1st digit of PIN no:  3\n",
      "enter 2nd digit of PIN no:  4\n",
      "enter 3rd digit of PIN no:  5\n",
      "enter 4th digit of PIN no:  6\n"
     ]
    },
    {
     "name": "stdout",
     "output_type": "stream",
     "text": [
      "('3', '4', '5', '6')\n"
     ]
    }
   ],
   "source": [
    "#enter multiple value\n",
    "x = input(\"enter 1st digit of PIN no: \"),input(\"enter 2nd digit of PIN no: \"),input(\"enter 3rd digit of PIN no: \"),input(\"enter 4th digit of PIN no: \")\n",
    "print(x)"
   ]
  },
  {
   "cell_type": "code",
   "execution_count": 20,
   "id": "b8fec57a-22d9-4f7d-83a0-8a4178367c1f",
   "metadata": {},
   "outputs": [
    {
     "name": "stdout",
     "output_type": "stream",
     "text": [
      "True False\n",
      "True\n",
      "True\n",
      "False\n"
     ]
    }
   ],
   "source": [
    "a = True\n",
    "b = False\n",
    "print(a,b)\n",
    "print(not b)\n",
    "print(a or b)\n",
    "print(a and b)"
   ]
  },
  {
   "cell_type": "code",
   "execution_count": 21,
   "id": "4b94161e-b8d5-49fa-8587-615a6ef45fa8",
   "metadata": {},
   "outputs": [
    {
     "name": "stdout",
     "output_type": "stream",
     "text": [
      "140733935506344\n",
      "140733935506344\n"
     ]
    }
   ],
   "source": [
    "a = 5\n",
    "b = 5\n",
    "print(id(a))\n",
    "print(id(b))"
   ]
  },
  {
   "cell_type": "code",
   "execution_count": 26,
   "id": "0357d70d-5003-44d2-86f2-511c0234c6cc",
   "metadata": {},
   "outputs": [
    {
     "name": "stdout",
     "output_type": "stream",
     "text": [
      "2619726039872\n",
      "2619725348608\n"
     ]
    },
    {
     "data": {
      "text/plain": [
       "False"
      ]
     },
     "execution_count": 26,
     "metadata": {},
     "output_type": "execute_result"
    }
   ],
   "source": [
    "l1 = [1,2,3]\n",
    "l2 = [1,2,3]\n",
    "print(id(l1))\n",
    "print(id(l2))\n",
    "l1 is l2"
   ]
  },
  {
   "cell_type": "code",
   "execution_count": 30,
   "id": "682fc7f8-2770-4460-8789-3613d056f66f",
   "metadata": {},
   "outputs": [
    {
     "name": "stdout",
     "output_type": "stream",
     "text": [
      "True\n"
     ]
    }
   ],
   "source": [
    "l = [1,2,3,4,5]\n",
    "print(4 in l)"
   ]
  },
  {
   "cell_type": "code",
   "execution_count": 31,
   "id": "c460a443-fbe1-4230-ab3b-30121e9eb8b0",
   "metadata": {},
   "outputs": [
    {
     "name": "stdout",
     "output_type": "stream",
     "text": [
      "True\n"
     ]
    }
   ],
   "source": [
    "l2 = {2:\"a\",1:\"b\"}\n",
    "print(1 in l2)"
   ]
  },
  {
   "cell_type": "code",
   "execution_count": 32,
   "id": "82d3f1da-47aa-4ac1-af64-65328760908c",
   "metadata": {},
   "outputs": [
    {
     "name": "stdout",
     "output_type": "stream",
     "text": [
      "x is positive no.\n"
     ]
    }
   ],
   "source": [
    "x = 10\n",
    "if (x>0):\n",
    "    print('x is positive no.')\n",
    "else:\n",
    "    print('x is negative no.')"
   ]
  },
  {
   "cell_type": "code",
   "execution_count": 33,
   "id": "4403aa24-359d-4add-94e8-ed0fd52ae628",
   "metadata": {},
   "outputs": [
    {
     "name": "stdout",
     "output_type": "stream",
     "text": [
      "this will print always\n"
     ]
    }
   ],
   "source": [
    "num = 10\n",
    "if None:\n",
    "    print('number is positive')\n",
    "print('this will print always')"
   ]
  },
  {
   "cell_type": "code",
   "execution_count": 34,
   "id": "3a38a522-b1e3-42d3-b893-8059bfd9382a",
   "metadata": {},
   "outputs": [
    {
     "name": "stdout",
     "output_type": "stream",
     "text": [
      "second division\n"
     ]
    }
   ],
   "source": [
    "num = 19\n",
    "if (num>20):\n",
    "    print('first division')\n",
    "elif (num>12 and num<=20):\n",
    "    print('second division')\n",
    "elif (num<=12):\n",
    "    print('third division')"
   ]
  },
  {
   "cell_type": "code",
   "execution_count": 55,
   "id": "b07c5c9a-fc2e-49fb-a7fa-4c3bd4363441",
   "metadata": {},
   "outputs": [
    {
     "name": "stdout",
     "output_type": "stream",
     "text": [
      "greatest 120\n"
     ]
    }
   ],
   "source": [
    "a = 23\n",
    "b = 120\n",
    "c = 100\n",
    "if(a>b and a>c):\n",
    "    print('greatest',a)\n",
    "elif(b>a and b>c):\n",
    "    print('greatest',b)\n",
    "else:\n",
    "    print(c)"
   ]
  },
  {
   "cell_type": "code",
   "execution_count": 51,
   "id": "3050988d-55d8-4f2e-a19b-d76b38337827",
   "metadata": {},
   "outputs": [
    {
     "data": {
      "text/plain": [
       "34"
      ]
     },
     "execution_count": 51,
     "metadata": {},
     "output_type": "execute_result"
    }
   ],
   "source": [
    "a = [34,23,22]\n",
    "max(a)"
   ]
  },
  {
   "cell_type": "code",
   "execution_count": 56,
   "id": "1e1fa0c4-2cba-42c0-b1d2-ef6b3f9374dc",
   "metadata": {},
   "outputs": [
    {
     "name": "stdout",
     "output_type": "stream",
     "text": [
      "20\n",
      "400\n",
      "12000\n",
      "480000\n",
      "24000000\n"
     ]
    }
   ],
   "source": [
    "a = [10,20,30,40,50]\n",
    "product = 2\n",
    "for ele in a:\n",
    "    product *= ele\n",
    "    print(product)"
   ]
  },
  {
   "cell_type": "code",
   "execution_count": 62,
   "id": "07e2249f-a3da-4a48-8c98-7cb5f7439ca0",
   "metadata": {},
   "outputs": [
    {
     "name": "stdout",
     "output_type": "stream",
     "text": [
      "10\n",
      "20\n",
      "30\n",
      "40\n",
      "50\n"
     ]
    }
   ],
   "source": [
    "for i in range(10,51,10):\n",
    "    print(i)"
   ]
  },
  {
   "cell_type": "code",
   "execution_count": 63,
   "id": "feb67ff8-3c58-4105-8751-eabcc75f028b",
   "metadata": {},
   "outputs": [
    {
     "name": "stdout",
     "output_type": "stream",
     "text": [
      "1\n",
      "2\n",
      "3\n",
      "4\n",
      "no data available in x\n"
     ]
    }
   ],
   "source": [
    "x = [1,2,3,4]\n",
    "for data in x:\n",
    "    print(data)\n",
    "else:\n",
    "    print('no data available in x')"
   ]
  },
  {
   "cell_type": "code",
   "execution_count": 65,
   "id": "04c10b94-83f8-44bc-a9bf-014cdbf6c6f6",
   "metadata": {},
   "outputs": [
    {
     "name": "stdout",
     "output_type": "stream",
     "text": [
      "odd 1\n",
      "even 2\n",
      "odd 3\n",
      "even 4\n",
      "odd 5\n",
      "even 6\n",
      "odd 7\n",
      "even 8\n",
      "odd 9\n",
      "even 10\n"
     ]
    }
   ],
   "source": [
    "for i in range(1,11):\n",
    "    if(i%2==0):\n",
    "        print('even',i)\n",
    "    else:\n",
    "        print('odd',i)"
   ]
  },
  {
   "cell_type": "code",
   "execution_count": 76,
   "id": "d04cf0b6-c478-4d36-afca-aecdd03e786f",
   "metadata": {},
   "outputs": [
    {
     "name": "stdout",
     "output_type": "stream",
     "text": [
      "2 is prime\n",
      "3 is prime\n",
      "5 is prime\n",
      "7 is prime\n",
      "11 is prime\n",
      "13 is prime\n",
      "17 is prime\n",
      "19 is prime\n",
      "23 is prime\n",
      "29 is prime\n",
      "31 is prime\n",
      "37 is prime\n",
      "41 is prime\n",
      "43 is prime\n",
      "47 is prime\n"
     ]
    }
   ],
   "source": [
    "\n",
    "for i in range(2,51):\n",
    "    count = 0\n",
    "    for j in range(1,51):\n",
    "        if(i%j==0):\n",
    "            count+=1\n",
    "    if(count == 2):\n",
    "        print(i,'is prime')"
   ]
  },
  {
   "cell_type": "code",
   "execution_count": null,
   "id": "b4d013b7-5ddf-447c-9971-180fc56d036f",
   "metadata": {},
   "outputs": [],
   "source": [
    "a = 0\n",
    "b = 1\n",
    "for i in range(10):\n",
    "    "
   ]
  },
  {
   "cell_type": "code",
   "execution_count": 78,
   "id": "33bd08dd-e0b3-4235-b0ae-407eb27f3f87",
   "metadata": {},
   "outputs": [
    {
     "name": "stdout",
     "output_type": "stream",
     "text": [
      "name is prwatech\n"
     ]
    }
   ],
   "source": [
    "def show_name(name):\n",
    "    print(\"name is \"+str(name))\n",
    "show_name('prwatech')"
   ]
  },
  {
   "cell_type": "code",
   "execution_count": 80,
   "id": "fbbde39b-e4a6-49f3-990e-a01ac2d9a938",
   "metadata": {},
   "outputs": [
    {
     "name": "stdout",
     "output_type": "stream",
     "text": [
      "10\n"
     ]
    }
   ],
   "source": [
    "def get_sum(lst):\n",
    "    all = 0\n",
    "    for num in lst:\n",
    "        all+=num\n",
    "    return all\n",
    "lst1 = get_sum([1,2,3,4])\n",
    "print(lst1)"
   ]
  },
  {
   "cell_type": "code",
   "execution_count": 83,
   "id": "abc98ca9-fe56-4c9a-9158-d644c1b1c896",
   "metadata": {},
   "outputs": [
    {
     "name": "stdout",
     "output_type": "stream",
     "text": [
      "45\n",
      "34\n"
     ]
    }
   ],
   "source": [
    "global_var = 34\n",
    "def lst():\n",
    "    local_var = 45\n",
    "    print(local_var)\n",
    "    print(global_var)\n",
    "lst()"
   ]
  },
  {
   "cell_type": "code",
   "execution_count": 122,
   "id": "baa77906-a030-4b24-9258-f11391fc41a4",
   "metadata": {},
   "outputs": [
    {
     "name": "stdout",
     "output_type": "stream",
     "text": [
      "5\n"
     ]
    }
   ],
   "source": [
    "a = 10\n",
    "b = 15\n",
    "while(1):\n",
    "    if(b>a):\n",
    "        b = b - a\n",
    "    else:\n",
    "        a = a - b\n",
    "    if(a==0 or b==0):\n",
    "        break\n",
    "print(max(a,b))"
   ]
  },
  {
   "cell_type": "code",
   "execution_count": 99,
   "id": "3451a9ce-28bd-4b2d-b931-eaf0b16bd9fe",
   "metadata": {
    "collapsed": true,
    "jupyter": {
     "outputs_hidden": true
    }
   },
   "outputs": [
    {
     "data": {
      "text/plain": [
       "5"
      ]
     },
     "execution_count": 99,
     "metadata": {},
     "output_type": "execute_result"
    }
   ],
   "source": [
    "15%10"
   ]
  },
  {
   "cell_type": "code",
   "execution_count": 108,
   "id": "660ac682-70be-43c3-b9e0-2d5e45426078",
   "metadata": {
    "jupyter": {
     "source_hidden": true
    }
   },
   "outputs": [
    {
     "name": "stdout",
     "output_type": "stream",
     "text": [
      "23\n"
     ]
    }
   ],
   "source": [
    "print(abs(-23))"
   ]
  },
  {
   "cell_type": "code",
   "execution_count": 111,
   "id": "0823f405-d593-4b81-b788-e9e0d910dfd3",
   "metadata": {},
   "outputs": [
    {
     "name": "stdout",
     "output_type": "stream",
     "text": [
      "False\n"
     ]
    }
   ],
   "source": [
    "lst = [1,2,3,4,0]\n",
    "print(all(lst))"
   ]
  },
  {
   "cell_type": "code",
   "execution_count": 112,
   "id": "d875caab-6fac-4682-8a38-09a1d3878856",
   "metadata": {},
   "outputs": [
    {
     "name": "stdout",
     "output_type": "stream",
     "text": [
      "True\n"
     ]
    }
   ],
   "source": [
    "lst1 = []\n",
    "print(all(lst1))"
   ]
  },
  {
   "cell_type": "code",
   "execution_count": 114,
   "id": "e2aef183-dfe2-442b-983f-c564bba03f37",
   "metadata": {},
   "outputs": [
    {
     "name": "stdout",
     "output_type": "stream",
     "text": [
      "<class 'list'>\n",
      "['__add__', '__class__', '__class_getitem__', '__contains__', '__delattr__', '__delitem__', '__dir__', '__doc__', '__eq__', '__format__', '__ge__', '__getattribute__', '__getitem__', '__getstate__', '__gt__', '__hash__', '__iadd__', '__imul__', '__init__', '__init_subclass__', '__iter__', '__le__', '__len__', '__lt__', '__mul__', '__ne__', '__new__', '__reduce__', '__reduce_ex__', '__repr__', '__reversed__', '__rmul__', '__setattr__', '__setitem__', '__sizeof__', '__str__', '__subclasshook__', 'append', 'clear', 'copy', 'count', 'extend', 'index', 'insert', 'pop', 'remove', 'reverse', 'sort']\n",
      "['__add__', '__class__', '__class_getitem__', '__contains__', '__delattr__', '__delitem__', '__dir__', '__doc__', '__eq__', '__format__', '__ge__', '__getattribute__', '__getitem__', '__getstate__', '__gt__', '__hash__', '__iadd__', '__imul__', '__init__', '__init_subclass__', '__iter__', '__le__', '__len__', '__lt__', '__mul__', '__ne__', '__new__', '__reduce__', '__reduce_ex__', '__repr__', '__reversed__', '__rmul__', '__setattr__', '__setitem__', '__sizeof__', '__str__', '__subclasshook__', 'append', 'clear', 'copy', 'count', 'extend', 'index', 'insert', 'pop', 'remove', 'reverse', 'sort']\n"
     ]
    }
   ],
   "source": [
    "lst4 = []\n",
    "print(type(lst4))\n",
    "print(dir(lst4))\n",
    "lst5 = tuple(lst4)\n",
    "print(dir(lst4))"
   ]
  },
  {
   "cell_type": "code",
   "execution_count": 115,
   "id": "b9d145a1-50e1-42c1-890b-81a4d1933cc1",
   "metadata": {},
   "outputs": [
    {
     "name": "stdout",
     "output_type": "stream",
     "text": [
      "(6, 1)\n"
     ]
    }
   ],
   "source": [
    "print(divmod(13,2))"
   ]
  },
  {
   "cell_type": "code",
   "execution_count": 117,
   "id": "964f1f03-54bb-42d5-9e51-38754896490d",
   "metadata": {},
   "outputs": [
    {
     "name": "stdout",
     "output_type": "stream",
     "text": [
      "index 0 has a value 1\n",
      "index 1 has a value 2\n",
      "index 2 has a value 3\n",
      "index 3 has a value 4\n",
      "index 4 has a value 0\n"
     ]
    }
   ],
   "source": [
    "lst6 = [10,20,30,40,50]\n",
    "for index, num in enumerate(lst, start=0):\n",
    "    print(\"index {0} has a value {1}\".format(index, num))"
   ]
  },
  {
   "cell_type": "code",
   "execution_count": 119,
   "id": "6e347675-a463-456f-b22c-b983040c0273",
   "metadata": {},
   "outputs": [
    {
     "name": "stdout",
     "output_type": "stream",
     "text": [
      "-9\n",
      "-7\n",
      "-5\n",
      "-3\n",
      "-1\n",
      "1\n",
      "3\n",
      "5\n",
      "7\n",
      "9\n"
     ]
    }
   ],
   "source": [
    "lst1_1 = range(-10,10)\n",
    "lstp = list(filter(lambda x:x%2!=0,lst1_1))\n",
    "for i in lstp:\n",
    "    print(i)"
   ]
  },
  {
   "cell_type": "code",
   "execution_count": 120,
   "id": "55391e83-425b-48b0-98ff-c4ec84ce637f",
   "metadata": {},
   "outputs": [
    {
     "name": "stdout",
     "output_type": "stream",
     "text": [
      "1\n",
      "2\n",
      "3\n",
      "4\n",
      "5\n",
      "6\n",
      "7\n",
      "8\n",
      "9\n"
     ]
    }
   ],
   "source": [
    "lstp1 = list(filter(lambda x:x>0,lst1_1))\n",
    "for i in lstp1:\n",
    "    print(i)"
   ]
  },
  {
   "cell_type": "code",
   "execution_count": 123,
   "id": "2f181e66-e2cb-4246-bceb-f9e0c7c1aa27",
   "metadata": {},
   "outputs": [
    {
     "name": "stdout",
     "output_type": "stream",
     "text": [
      "[1, 4, 9, 16]\n"
     ]
    }
   ],
   "source": [
    "lst8 = [1,2,3,4]\n",
    "squared = list(map(lambda x:x**2,[1,2,3,4]))\n",
    "print(squared)"
   ]
  },
  {
   "cell_type": "code",
   "execution_count": 131,
   "id": "bbe7e330-b0ab-45af-9d1a-e7c3b3d65b67",
   "metadata": {},
   "outputs": [
    {
     "name": "stdout",
     "output_type": "stream",
     "text": [
      "24\n"
     ]
    }
   ],
   "source": [
    "from functools import reduce\n",
    "lst = [1,2,3,4]\n",
    "product = reduce(lambda x,y: x*y,lst)\n",
    "print(product)"
   ]
  },
  {
   "cell_type": "code",
   "execution_count": 132,
   "id": "725f1458-525b-40b7-a09a-55163ffcbcf6",
   "metadata": {},
   "outputs": [
    {
     "name": "stdout",
     "output_type": "stream",
     "text": [
      "24\n"
     ]
    }
   ],
   "source": [
    "lst = [1,2,3,4]\n",
    "def multiply(x,y):\n",
    "    return x*y\n",
    "product = reduce(multiply,lst)\n",
    "print(product)"
   ]
  },
  {
   "cell_type": "code",
   "execution_count": 133,
   "id": "99be5176-60e0-4fe7-b9d2-fa5c73dad17e",
   "metadata": {},
   "outputs": [],
   "source": [
    "# reduce works on double arg, map work on single arg, filter work on single arg."
   ]
  },
  {
   "cell_type": "code",
   "execution_count": 149,
   "id": "9517525e-7337-486e-a0cf-c14349b25ef3",
   "metadata": {},
   "outputs": [
    {
     "ename": "KeyboardInterrupt",
     "evalue": "Interrupted by user",
     "output_type": "error",
     "traceback": [
      "\u001b[31m---------------------------------------------------------------------------\u001b[39m",
      "\u001b[31mKeyboardInterrupt\u001b[39m                         Traceback (most recent call last)",
      "\u001b[36mCell\u001b[39m\u001b[36m \u001b[39m\u001b[32mIn[149]\u001b[39m\u001b[32m, line 17\u001b[39m\n\u001b[32m     15\u001b[39m sign = \u001b[32m0\u001b[39m\n\u001b[32m     16\u001b[39m \u001b[38;5;28;01mwhile\u001b[39;00m(\u001b[32m1\u001b[39m):\n\u001b[32m---> \u001b[39m\u001b[32m17\u001b[39m     sign = \u001b[38;5;28;43minput\u001b[39;49m\u001b[43m(\u001b[49m\u001b[33;43m'\u001b[39;49m\u001b[33;43menter the sign: \u001b[39;49m\u001b[33;43m'\u001b[39;49m\u001b[43m \u001b[49m\u001b[43m)\u001b[49m\n\u001b[32m     18\u001b[39m     \u001b[38;5;28;01mif\u001b[39;00m sign \u001b[38;5;129;01mnot\u001b[39;00m \u001b[38;5;129;01min\u001b[39;00m [\u001b[33m'\u001b[39m\u001b[33m+\u001b[39m\u001b[33m'\u001b[39m,\u001b[33m'\u001b[39m\u001b[33m-\u001b[39m\u001b[33m'\u001b[39m,\u001b[33m'\u001b[39m\u001b[33m*\u001b[39m\u001b[33m'\u001b[39m,\u001b[33m'\u001b[39m\u001b[33m/\u001b[39m\u001b[33m'\u001b[39m]:\n\u001b[32m     19\u001b[39m         \u001b[38;5;28mprint\u001b[39m(\u001b[33m'\u001b[39m\u001b[33mplease enter the correct sign\u001b[39m\u001b[33m'\u001b[39m)\n",
      "\u001b[36mFile \u001b[39m\u001b[32mC:\\Program Files\\Python311\\Lib\\site-packages\\ipykernel\\kernelbase.py:1282\u001b[39m, in \u001b[36mKernel.raw_input\u001b[39m\u001b[34m(self, prompt)\u001b[39m\n\u001b[32m   1280\u001b[39m     msg = \u001b[33m\"\u001b[39m\u001b[33mraw_input was called, but this frontend does not support input requests.\u001b[39m\u001b[33m\"\u001b[39m\n\u001b[32m   1281\u001b[39m     \u001b[38;5;28;01mraise\u001b[39;00m StdinNotImplementedError(msg)\n\u001b[32m-> \u001b[39m\u001b[32m1282\u001b[39m \u001b[38;5;28;01mreturn\u001b[39;00m \u001b[38;5;28;43mself\u001b[39;49m\u001b[43m.\u001b[49m\u001b[43m_input_request\u001b[49m\u001b[43m(\u001b[49m\n\u001b[32m   1283\u001b[39m \u001b[43m    \u001b[49m\u001b[38;5;28;43mstr\u001b[39;49m\u001b[43m(\u001b[49m\u001b[43mprompt\u001b[49m\u001b[43m)\u001b[49m\u001b[43m,\u001b[49m\n\u001b[32m   1284\u001b[39m \u001b[43m    \u001b[49m\u001b[38;5;28;43mself\u001b[39;49m\u001b[43m.\u001b[49m\u001b[43m_parent_ident\u001b[49m\u001b[43m[\u001b[49m\u001b[33;43m\"\u001b[39;49m\u001b[33;43mshell\u001b[39;49m\u001b[33;43m\"\u001b[39;49m\u001b[43m]\u001b[49m\u001b[43m,\u001b[49m\n\u001b[32m   1285\u001b[39m \u001b[43m    \u001b[49m\u001b[38;5;28;43mself\u001b[39;49m\u001b[43m.\u001b[49m\u001b[43mget_parent\u001b[49m\u001b[43m(\u001b[49m\u001b[33;43m\"\u001b[39;49m\u001b[33;43mshell\u001b[39;49m\u001b[33;43m\"\u001b[39;49m\u001b[43m)\u001b[49m\u001b[43m,\u001b[49m\n\u001b[32m   1286\u001b[39m \u001b[43m    \u001b[49m\u001b[43mpassword\u001b[49m\u001b[43m=\u001b[49m\u001b[38;5;28;43;01mFalse\u001b[39;49;00m\u001b[43m,\u001b[49m\n\u001b[32m   1287\u001b[39m \u001b[43m\u001b[49m\u001b[43m)\u001b[49m\n",
      "\u001b[36mFile \u001b[39m\u001b[32mC:\\Program Files\\Python311\\Lib\\site-packages\\ipykernel\\kernelbase.py:1325\u001b[39m, in \u001b[36mKernel._input_request\u001b[39m\u001b[34m(self, prompt, ident, parent, password)\u001b[39m\n\u001b[32m   1322\u001b[39m \u001b[38;5;28;01mexcept\u001b[39;00m \u001b[38;5;167;01mKeyboardInterrupt\u001b[39;00m:\n\u001b[32m   1323\u001b[39m     \u001b[38;5;66;03m# re-raise KeyboardInterrupt, to truncate traceback\u001b[39;00m\n\u001b[32m   1324\u001b[39m     msg = \u001b[33m\"\u001b[39m\u001b[33mInterrupted by user\u001b[39m\u001b[33m\"\u001b[39m\n\u001b[32m-> \u001b[39m\u001b[32m1325\u001b[39m     \u001b[38;5;28;01mraise\u001b[39;00m \u001b[38;5;167;01mKeyboardInterrupt\u001b[39;00m(msg) \u001b[38;5;28;01mfrom\u001b[39;00m\u001b[38;5;250m \u001b[39m\u001b[38;5;28;01mNone\u001b[39;00m\n\u001b[32m   1326\u001b[39m \u001b[38;5;28;01mexcept\u001b[39;00m \u001b[38;5;167;01mException\u001b[39;00m:\n\u001b[32m   1327\u001b[39m     \u001b[38;5;28mself\u001b[39m.log.warning(\u001b[33m\"\u001b[39m\u001b[33mInvalid Message:\u001b[39m\u001b[33m\"\u001b[39m, exc_info=\u001b[38;5;28;01mTrue\u001b[39;00m)\n",
      "\u001b[31mKeyboardInterrupt\u001b[39m: Interrupted by user"
     ]
    }
   ],
   "source": [
    "def sum(a,b):\n",
    "    c = a+b\n",
    "    return c\n",
    "def sub(a,b):\n",
    "    c = a-b\n",
    "    return c\n",
    "def mult(a,b):\n",
    "    c = a-b\n",
    "    return c\n",
    "def div(a,b):\n",
    "    c = a/b\n",
    "    return c\n",
    "a = 0\n",
    "b = 0\n",
    "sign = 0\n",
    "while(1):\n",
    "    sign = input('enter the sign: ' )\n",
    "    if sign not in ['+','-','*','/']:\n",
    "        print('please enter the correct sign')\n",
    "        continue\n",
    "    break\n",
    "while(1):\n",
    "    a = (input('enter the first input: '))\n",
    "    if a not in ['1','2','3','4','5','6','7','8','9','0']:\n",
    "        print('invalid input a, please enter a valid digit')\n",
    "        continue\n",
    "    break\n",
    "while(1):\n",
    "    b = (input('enter the second input: '))\n",
    "    if b not in ['1','2','3','4','5','6','7','8','9','0']:\n",
    "        print('invalid input a, please enter a valid digit')\n",
    "        continue\n",
    "    break\n",
    "if sign=='+':\n",
    "    print(sum(int(a),int(b)))\n",
    "elif sign=='-':\n",
    "    print(sub(int(a),int(b)))\n",
    "elif sign=='*':\n",
    "    print(mult(int(a),int(b)))\n",
    "elif sign=='/':\n",
    "    print(div(int(a),int(b)))\n",
    "else:\n",
    "    print('invalid')"
   ]
  },
  {
   "cell_type": "code",
   "execution_count": 162,
   "id": "06e3d7f6-cca9-4301-892b-4b62604c8e25",
   "metadata": {},
   "outputs": [
    {
     "name": "stdout",
     "output_type": "stream",
     "text": [
      "9\n"
     ]
    }
   ],
   "source": [
    "def say(x,y=3,z=2):\n",
    "    prod = x+y+z\n",
    "    return prod\n",
    "print(say(2,5))\n",
    "# def say(x,y=2,z) -> this will cause an error as non default follows default."
   ]
  },
  {
   "cell_type": "code",
   "execution_count": 164,
   "id": "4a680b74-56bd-4935-993c-e68561b8b6da",
   "metadata": {},
   "outputs": [
    {
     "data": {
      "text/plain": [
       "'C:\\\\Users\\\\Administrator'"
      ]
     },
     "execution_count": 164,
     "metadata": {},
     "output_type": "execute_result"
    }
   ],
   "source": [
    "import os\n",
    "os.getcwd()"
   ]
  },
  {
   "cell_type": "code",
   "execution_count": 169,
   "id": "5200e32c-b3fd-40e9-851e-dd9b1c662ca0",
   "metadata": {},
   "outputs": [
    {
     "data": {
      "text/plain": [
       "'C:\\\\Users\\\\Administrator'"
      ]
     },
     "execution_count": 169,
     "metadata": {},
     "output_type": "execute_result"
    }
   ],
   "source": [
    "os.getenv(\"/Users\")\n",
    "os.getcwd()"
   ]
  },
  {
   "cell_type": "code",
   "execution_count": 180,
   "id": "143c4189-8650-449d-bf6c-1d686c8cafff",
   "metadata": {},
   "outputs": [],
   "source": [
    "kst = open(\"my3.txt\",\"w\") \n",
    "kst.write(\"this is 1st module \\n\")\n",
    "kst.write(\"this is 2nd module\")\n",
    "kst.close()"
   ]
  },
  {
   "cell_type": "code",
   "execution_count": 184,
   "id": "d3ec8d03-7dd9-4b56-b3e2-ca615b22fe77",
   "metadata": {},
   "outputs": [
    {
     "data": {
      "text/plain": [
       "'this is 1st module \\nthis is 2nd module'"
      ]
     },
     "execution_count": 184,
     "metadata": {},
     "output_type": "execute_result"
    }
   ],
   "source": [
    "kst = open(\"my3.txt\",\"r\")\n",
    "kst.read()"
   ]
  },
  {
   "cell_type": "code",
   "execution_count": 189,
   "id": "ee703edb-7180-4aa9-9efe-e8338ba6fec7",
   "metadata": {},
   "outputs": [
    {
     "data": {
      "text/plain": [
       "'this is 1s'"
      ]
     },
     "execution_count": 189,
     "metadata": {},
     "output_type": "execute_result"
    }
   ],
   "source": [
    "kst = open(\"my3.txt\",\"r\")\n",
    "kst.read(10)\n"
   ]
  },
  {
   "cell_type": "code",
   "execution_count": 190,
   "id": "cee164db-9149-4798-b3fe-906b0e329550",
   "metadata": {},
   "outputs": [
    {
     "data": {
      "text/plain": [
       "10"
      ]
     },
     "execution_count": 190,
     "metadata": {},
     "output_type": "execute_result"
    }
   ],
   "source": [
    "kst.tell()"
   ]
  },
  {
   "cell_type": "code",
   "execution_count": 191,
   "id": "2111aa01-51c2-4f28-8116-ee17fedfc688",
   "metadata": {},
   "outputs": [
    {
     "data": {
      "text/plain": [
       "'t mod'"
      ]
     },
     "execution_count": 191,
     "metadata": {},
     "output_type": "execute_result"
    }
   ],
   "source": [
    "kst.read(5)"
   ]
  },
  {
   "cell_type": "code",
   "execution_count": 197,
   "id": "b825af3d-486d-43d8-9c15-2e6afffa7f69",
   "metadata": {},
   "outputs": [
    {
     "data": {
      "text/plain": [
       "0"
      ]
     },
     "execution_count": 197,
     "metadata": {},
     "output_type": "execute_result"
    }
   ],
   "source": [
    "kst.seek(0)"
   ]
  },
  {
   "cell_type": "code",
   "execution_count": 195,
   "id": "4227f12e-5981-4de5-95b7-ecd4791eae76",
   "metadata": {},
   "outputs": [
    {
     "data": {
      "text/plain": [
       "'this'"
      ]
     },
     "execution_count": 195,
     "metadata": {},
     "output_type": "execute_result"
    }
   ],
   "source": [
    "kst.read(4)"
   ]
  },
  {
   "cell_type": "code",
   "execution_count": 198,
   "id": "422a990a-858a-4784-853f-c4f4aaa78a01",
   "metadata": {},
   "outputs": [
    {
     "data": {
      "text/plain": [
       "'this is 1st module \\n'"
      ]
     },
     "execution_count": 198,
     "metadata": {},
     "output_type": "execute_result"
    }
   ],
   "source": [
    "kst.readline()"
   ]
  },
  {
   "cell_type": "code",
   "execution_count": 199,
   "id": "0aa83d9a-750a-4d1a-8570-77d71cea7319",
   "metadata": {},
   "outputs": [
    {
     "data": {
      "text/plain": [
       "'this is 2nd module'"
      ]
     },
     "execution_count": 199,
     "metadata": {},
     "output_type": "execute_result"
    }
   ],
   "source": [
    "kst.readline()"
   ]
  },
  {
   "cell_type": "code",
   "execution_count": 202,
   "id": "862e5598-ba76-4d83-b15f-059a2be356be",
   "metadata": {},
   "outputs": [],
   "source": [
    "kst.readline()\n",
    "kst.close()"
   ]
  },
  {
   "cell_type": "code",
   "execution_count": 203,
   "id": "b8b13653-95c1-4103-ac98-3f8fbf93cc4b",
   "metadata": {},
   "outputs": [],
   "source": [
    "os.rename(\"my3.txt\",\"alfred.txt\")"
   ]
  },
  {
   "cell_type": "code",
   "execution_count": 209,
   "id": "3717ce74-72bd-49ce-864c-8f333c5d487b",
   "metadata": {},
   "outputs": [
    {
     "name": "stdout",
     "output_type": "stream",
     "text": [
      "['this is 1st module \\n', 'this is 2nd module']\n"
     ]
    }
   ],
   "source": [
    "kst = open(\"alfred.txt\",\"r\")\n",
    "print(kst.readlines())"
   ]
  },
  {
   "cell_type": "code",
   "execution_count": 212,
   "id": "5f8cc8dd-43e8-4902-83b3-60ce6fbc513a",
   "metadata": {},
   "outputs": [],
   "source": [
    "kst.close()"
   ]
  },
  {
   "cell_type": "code",
   "execution_count": 213,
   "id": "c8a068fa-34d9-450b-926b-6c80065a47ff",
   "metadata": {},
   "outputs": [],
   "source": [
    "os.remove(\"alfred.txt\")"
   ]
  },
  {
   "cell_type": "code",
   "execution_count": 214,
   "id": "2af4d2f8-6c15-4dea-862e-9c70c202a836",
   "metadata": {},
   "outputs": [
    {
     "data": {
      "text/plain": [
       "'C:\\\\Users\\\\Administrator'"
      ]
     },
     "execution_count": 214,
     "metadata": {},
     "output_type": "execute_result"
    }
   ],
   "source": [
    "import os\n",
    "os.getcwd() #to get the current directory\n",
    "#os.genev to get the current directory"
   ]
  },
  {
   "cell_type": "code",
   "execution_count": 221,
   "id": "4f56a729-c77c-486a-8b79-2f6acf9586d1",
   "metadata": {},
   "outputs": [],
   "source": [
    "os.chdir(\"/Users/Administrator/\")"
   ]
  },
  {
   "cell_type": "code",
   "execution_count": 222,
   "id": "dbcabd0b-39cb-45ec-9698-f9f654f9c43e",
   "metadata": {},
   "outputs": [
    {
     "data": {
      "text/plain": [
       "'C:\\\\Users\\\\Administrator'"
      ]
     },
     "execution_count": 222,
     "metadata": {},
     "output_type": "execute_result"
    }
   ],
   "source": [
    "os.getcwd()"
   ]
  },
  {
   "cell_type": "code",
   "execution_count": 219,
   "id": "33373b18-e8b8-4a5e-8a83-53d21060ae29",
   "metadata": {},
   "outputs": [
    {
     "data": {
      "text/plain": [
       "['Administrator',\n",
       " 'All Users',\n",
       " 'Default',\n",
       " 'Default User',\n",
       " 'desktop.ini',\n",
       " 'Public',\n",
       " 'User']"
      ]
     },
     "execution_count": 219,
     "metadata": {},
     "output_type": "execute_result"
    }
   ],
   "source": [
    "os.listdir(os.getcwd())"
   ]
  },
  {
   "cell_type": "code",
   "execution_count": null,
   "id": "367d1f72-0c78-4aad-a8d5-25d9a5531c48",
   "metadata": {},
   "outputs": [],
   "source": [
    "#create a directory. create file inside this directory. then delete the directory without deleting the file."
   ]
  },
  {
   "cell_type": "code",
   "execution_count": 233,
   "id": "d4c34ee5-7509-467c-8db5-dacfe7136d44",
   "metadata": {},
   "outputs": [],
   "source": [
    "os.getenv(\"/Users/Administrator/Alf\")\n"
   ]
  },
  {
   "cell_type": "code",
   "execution_count": 234,
   "id": "c0de4c36-4548-486e-85db-1882844b4a05",
   "metadata": {},
   "outputs": [
    {
     "data": {
      "text/plain": [
       "'C:\\\\Users\\\\Administrator'"
      ]
     },
     "execution_count": 234,
     "metadata": {},
     "output_type": "execute_result"
    }
   ],
   "source": [
    "os.getcwd()"
   ]
  },
  {
   "cell_type": "code",
   "execution_count": 235,
   "id": "a0f45678-22ea-4aa2-89fa-bb02d95cd704",
   "metadata": {},
   "outputs": [],
   "source": [
    "os.makedirs(\"alf\")\n"
   ]
  },
  {
   "cell_type": "code",
   "execution_count": 236,
   "id": "2ba856b5-56aa-4ae3-8a2a-437e290e3397",
   "metadata": {},
   "outputs": [],
   "source": [
    "os.chdir(\"alf\")"
   ]
  },
  {
   "cell_type": "code",
   "execution_count": 239,
   "id": "9a9a4597-f499-4e84-9492-109365a15796",
   "metadata": {},
   "outputs": [
    {
     "data": {
      "text/plain": [
       "3"
      ]
     },
     "execution_count": 239,
     "metadata": {},
     "output_type": "execute_result"
    }
   ],
   "source": [
    "kst = open(\"a.txt\",\"w\")\n",
    "kst.write(\"aaa\")"
   ]
  },
  {
   "cell_type": "code",
   "execution_count": 241,
   "id": "d2e62eb8-664e-4f22-af43-5d176bd89e3a",
   "metadata": {},
   "outputs": [
    {
     "data": {
      "text/plain": [
       "'aaa'"
      ]
     },
     "execution_count": 241,
     "metadata": {},
     "output_type": "execute_result"
    }
   ],
   "source": [
    "kst = open(\"a.txt\",\"r\")\n",
    "kst.read()"
   ]
  },
  {
   "cell_type": "code",
   "execution_count": 255,
   "id": "e78517d1-7c81-4d78-826c-2dfc3d8f43ad",
   "metadata": {},
   "outputs": [],
   "source": [
    "\n",
    "os.getcwd()\n",
    "os.chdir(\"/..\")"
   ]
  },
  {
   "cell_type": "code",
   "execution_count": 256,
   "id": "4de64eef-5c45-44d8-8d9e-c7d6991d3795",
   "metadata": {},
   "outputs": [],
   "source": [
    "import shutil\n",
    "shutil.rmtree(\"/Users/Administrator/alf\")"
   ]
  },
  {
   "cell_type": "code",
   "execution_count": 262,
   "id": "cc90b60a-ba71-4a27-8689-e69e9e0ae6ad",
   "metadata": {},
   "outputs": [
    {
     "name": "stdout",
     "output_type": "stream",
     "text": [
      "value is: b\n",
      "OOPS (<class 'ValueError'>, ValueError(\"invalid literal for int() with base 10: 'b'\"), <traceback object at 0x00000261F375CE40>) occured\n",
      "next entry\n",
      "*********************\n",
      "value is: 0\n",
      "OOPS (<class 'ZeroDivisionError'>, ZeroDivisionError('division by zero'), <traceback object at 0x00000261F375CE40>) occured\n",
      "next entry\n",
      "*********************\n",
      "value is: 2\n",
      "the reciprocal of 2 is 0.5\n"
     ]
    }
   ],
   "source": [
    "import sys\n",
    "lst = ['b',0,2]\n",
    "for entry in lst:\n",
    "    try: \n",
    "        print(\"value is:\",entry)\n",
    "        k = 1/int(entry)\n",
    "    except:\n",
    "        print(\"OOPS\",sys.exc_info(),\"occured\")\n",
    "        print(\"next entry\")\n",
    "        print(\"*********************\")\n",
    "print(\"the reciprocal of\",entry,\"is\",k)\n",
    "        "
   ]
  },
  {
   "cell_type": "code",
   "execution_count": 263,
   "id": "fa3073db-0d71-41a8-9c86-9d8e3d90e747",
   "metadata": {},
   "outputs": [
    {
     "name": "stdout",
     "output_type": "stream",
     "text": [
      "++++++++++++++++++++++++\n",
      "value is: b\n",
      "this is a value error\n",
      "++++++++++++++++++++++++\n",
      "value is: 0\n",
      "zerodivision error\n",
      "++++++++++++++++++++++++\n",
      "value is: 2\n",
      "the reciprocal of  2 is 0.5\n"
     ]
    }
   ],
   "source": [
    "import sys\n",
    "lst = ['b',0,2]\n",
    "for entry in lst:\n",
    "    try:\n",
    "        print('++++++++++++++++++++++++')\n",
    "        print(\"value is:\",entry)\n",
    "        k = 1/int(entry)\n",
    "    except(ValueError):\n",
    "        print('this is a value error')\n",
    "\n",
    "    except(ZeroDivisionError):\n",
    "        print(\"zerodivision error\")\n",
    "    except:\n",
    "        print(\"other error\")\n",
    "print(\"the reciprocal of \",entry ,'is' ,k)"
   ]
  },
  {
   "cell_type": "code",
   "execution_count": 265,
   "id": "c1c0d830-2169-4104-b311-4c29cd9a9512",
   "metadata": {},
   "outputs": [
    {
     "name": "stdout",
     "output_type": "stream",
     "text": [
      "final closed\n"
     ]
    },
    {
     "ename": "NameError",
     "evalue": "name 'f' is not defined",
     "output_type": "error",
     "traceback": [
      "\u001b[31m---------------------------------------------------------------------------\u001b[39m",
      "\u001b[31mFileNotFoundError\u001b[39m                         Traceback (most recent call last)",
      "\u001b[36mCell\u001b[39m\u001b[36m \u001b[39m\u001b[32mIn[265]\u001b[39m\u001b[32m, line 4\u001b[39m\n\u001b[32m      3\u001b[39m \u001b[38;5;28;01mtry\u001b[39;00m:\n\u001b[32m----> \u001b[39m\u001b[32m4\u001b[39m     f = \u001b[38;5;28;43mopen\u001b[39;49m\u001b[43m(\u001b[49m\u001b[33;43m'\u001b[39;49m\u001b[33;43mabc.txt\u001b[39;49m\u001b[33;43m'\u001b[39;49m\u001b[43m)\u001b[49m\n\u001b[32m      5\u001b[39m \u001b[38;5;28;01mfinally\u001b[39;00m:\n",
      "\u001b[36mFile \u001b[39m\u001b[32mC:\\Program Files\\Python311\\Lib\\site-packages\\IPython\\core\\interactiveshell.py:326\u001b[39m, in \u001b[36m_modified_open\u001b[39m\u001b[34m(file, *args, **kwargs)\u001b[39m\n\u001b[32m    320\u001b[39m     \u001b[38;5;28;01mraise\u001b[39;00m \u001b[38;5;167;01mValueError\u001b[39;00m(\n\u001b[32m    321\u001b[39m         \u001b[33mf\u001b[39m\u001b[33m\"\u001b[39m\u001b[33mIPython won\u001b[39m\u001b[33m'\u001b[39m\u001b[33mt let you open fd=\u001b[39m\u001b[38;5;132;01m{\u001b[39;00mfile\u001b[38;5;132;01m}\u001b[39;00m\u001b[33m by default \u001b[39m\u001b[33m\"\u001b[39m\n\u001b[32m    322\u001b[39m         \u001b[33m\"\u001b[39m\u001b[33mas it is likely to crash IPython. If you know what you are doing, \u001b[39m\u001b[33m\"\u001b[39m\n\u001b[32m    323\u001b[39m         \u001b[33m\"\u001b[39m\u001b[33myou can use builtins\u001b[39m\u001b[33m'\u001b[39m\u001b[33m open.\u001b[39m\u001b[33m\"\u001b[39m\n\u001b[32m    324\u001b[39m     )\n\u001b[32m--> \u001b[39m\u001b[32m326\u001b[39m \u001b[38;5;28;01mreturn\u001b[39;00m \u001b[43mio_open\u001b[49m\u001b[43m(\u001b[49m\u001b[43mfile\u001b[49m\u001b[43m,\u001b[49m\u001b[43m \u001b[49m\u001b[43m*\u001b[49m\u001b[43margs\u001b[49m\u001b[43m,\u001b[49m\u001b[43m \u001b[49m\u001b[43m*\u001b[49m\u001b[43m*\u001b[49m\u001b[43mkwargs\u001b[49m\u001b[43m)\u001b[49m\n",
      "\u001b[31mFileNotFoundError\u001b[39m: [Errno 2] No such file or directory: 'abc.txt'",
      "\nDuring handling of the above exception, another exception occurred:\n",
      "\u001b[31mNameError\u001b[39m                                 Traceback (most recent call last)",
      "\u001b[36mCell\u001b[39m\u001b[36m \u001b[39m\u001b[32mIn[265]\u001b[39m\u001b[32m, line 7\u001b[39m\n\u001b[32m      5\u001b[39m \u001b[38;5;28;01mfinally\u001b[39;00m:\n\u001b[32m      6\u001b[39m     \u001b[38;5;28mprint\u001b[39m(\u001b[33m'\u001b[39m\u001b[33mfinal closed\u001b[39m\u001b[33m'\u001b[39m)\n\u001b[32m----> \u001b[39m\u001b[32m7\u001b[39m     \u001b[43mf\u001b[49m.close()\n",
      "\u001b[31mNameError\u001b[39m: name 'f' is not defined"
     ]
    }
   ],
   "source": [
    "import os\n",
    "os.chdir('/Users/')\n",
    "try:\n",
    "    f = open('abc.txt')\n",
    "finally:\n",
    "    print('final closed')\n",
    "    f.close()\n",
    "    "
   ]
  },
  {
   "cell_type": "code",
   "execution_count": 266,
   "id": "25eca16f-e5a6-4780-bb90-df5db9a15e5f",
   "metadata": {},
   "outputs": [
    {
     "name": "stdout",
     "output_type": "stream",
     "text": [
      "something went wrong\n"
     ]
    }
   ],
   "source": [
    "\n",
    "try:\n",
    "    f = open('abc.txt')\n",
    "except:\n",
    "    print('something went wrong')\n"
   ]
  },
  {
   "cell_type": "code",
   "execution_count": 267,
   "id": "9c18f747-c715-425b-ba70-91aa6703ab65",
   "metadata": {},
   "outputs": [],
   "source": [
    "import logging\n",
    "logging.basicConfig(level=logging.INFO)"
   ]
  },
  {
   "cell_type": "code",
   "execution_count": 269,
   "id": "b4f2c9e4-a8e7-40e1-9d73-eb8788c2264e",
   "metadata": {},
   "outputs": [
    {
     "name": "stderr",
     "output_type": "stream",
     "text": [
      "INFO:root:app started\n"
     ]
    }
   ],
   "source": [
    "logging.debug('this is a debug message')\n",
    "logging.info(\"app started\")"
   ]
  },
  {
   "cell_type": "code",
   "execution_count": 270,
   "id": "a8311356-b4cc-4b4a-a8bf-fe14d2fcf0b9",
   "metadata": {},
   "outputs": [
    {
     "name": "stderr",
     "output_type": "stream",
     "text": [
      "WARNING:root:this is a warning\n",
      "ERROR:root:an error occurred\n"
     ]
    }
   ],
   "source": [
    "logging.warning('this is a warning')\n",
    "logging.error(\"an error occurred\")"
   ]
  },
  {
   "cell_type": "code",
   "execution_count": null,
   "id": "a2379d12-c8af-4edc-b674-765f4baa1571",
   "metadata": {},
   "outputs": [],
   "source": [
    "logging.critical()"
   ]
  },
  {
   "cell_type": "code",
   "execution_count": 2,
   "id": "628a64f9-2be2-4625-b256-d804951beaa0",
   "metadata": {},
   "outputs": [],
   "source": [
    "lst = ['one','two','three']\n",
    "lst1 = ['four']\n",
    "lst.extend(lst1)"
   ]
  },
  {
   "cell_type": "code",
   "execution_count": 3,
   "id": "fded5c8c-a415-4912-beb5-541e72b3166f",
   "metadata": {},
   "outputs": [
    {
     "name": "stdout",
     "output_type": "stream",
     "text": [
      "['one', 'two', 'three', 'four']\n"
     ]
    }
   ],
   "source": [
    "print(lst)"
   ]
  },
  {
   "cell_type": "code",
   "execution_count": 4,
   "id": "0ad3f7e4-8322-42f7-88ba-cae423890984",
   "metadata": {},
   "outputs": [
    {
     "name": "stdout",
     "output_type": "stream",
     "text": [
      "two\n"
     ]
    }
   ],
   "source": [
    "a = lst.pop(1)\n",
    "print(a)"
   ]
  },
  {
   "cell_type": "code",
   "execution_count": 5,
   "id": "ebe2d17c-0be9-43bf-a6e4-f3537ebcc79e",
   "metadata": {},
   "outputs": [
    {
     "name": "stdout",
     "output_type": "stream",
     "text": [
      "[4, 3, 2, 1]\n"
     ]
    }
   ],
   "source": [
    "lst = [1,2,3,4]\n",
    "lst.reverse()\n",
    "print(lst)"
   ]
  },
  {
   "cell_type": "code",
   "execution_count": 8,
   "id": "eb938942-0878-40a6-9e5e-b903141a7bfb",
   "metadata": {},
   "outputs": [
    {
     "name": "stdout",
     "output_type": "stream",
     "text": [
      "[9, 6, 5, 4, 3, 2]\n"
     ]
    }
   ],
   "source": [
    "a = [9,4,5,6,3,2]\n",
    "b = sorted(a,reverse=True)\n",
    "print(b)"
   ]
  },
  {
   "cell_type": "code",
   "execution_count": 9,
   "id": "07f13947-2330-49b1-85f1-e280c38c3129",
   "metadata": {},
   "outputs": [
    {
     "name": "stdout",
     "output_type": "stream",
     "text": [
      "[0, 1, 4, 9, 16, 25, 36, 49, 64, 81]\n"
     ]
    }
   ],
   "source": [
    "#comprehension\n",
    "power = [(i**2) for i in range(10)]\n",
    "print(power)"
   ]
  },
  {
   "cell_type": "code",
   "execution_count": 10,
   "id": "72046fb1-b143-408e-ae7f-97552c3e4712",
   "metadata": {},
   "outputs": [
    {
     "name": "stdout",
     "output_type": "stream",
     "text": [
      "[-20, -40, -60, -80]\n"
     ]
    }
   ],
   "source": [
    "lst = [-10,-20,-30,-40]\n",
    "lst2 = [i*2 for i in lst]\n",
    "print(lst2)"
   ]
  },
  {
   "cell_type": "code",
   "execution_count": 11,
   "id": "b7ebf841-201d-4429-82f1-f79289dc0fbb",
   "metadata": {},
   "outputs": [
    {
     "name": "stdout",
     "output_type": "stream",
     "text": [
      "[(0, 0), (1, 1), (2, 4), (3, 9), (4, 16), (5, 25), (6, 36), (7, 49), (8, 64), (9, 81)]\n"
     ]
    }
   ],
   "source": [
    "lst = [-10,-20,-30,-40,50]\n",
    "lst2 = [(i,i**2) for i in range(10)]\n",
    "print(lst2)"
   ]
  },
  {
   "cell_type": "code",
   "execution_count": null,
   "id": "f851ff39-a93c-419f-9e6e-1b5c0453e0a8",
   "metadata": {},
   "outputs": [],
   "source": [
    "#change r X c\n",
    "matrix = [[1,2,3,4],[5,6,7,8],[9,10,11,12]]"
   ]
  },
  {
   "cell_type": "code",
   "execution_count": 13,
   "id": "c3a620dc-0668-4850-a468-3258631010d5",
   "metadata": {},
   "outputs": [
    {
     "data": {
      "text/plain": [
       "tuple"
      ]
     },
     "execution_count": 13,
     "metadata": {},
     "output_type": "execute_result"
    }
   ],
   "source": [
    "lst = ('hi',)\n",
    "type(lst)"
   ]
  },
  {
   "cell_type": "code",
   "execution_count": 14,
   "id": "f21792bc-1f14-4d64-97f0-2f46cbb69890",
   "metadata": {},
   "outputs": [],
   "source": [
    "#accessing elements in tuple"
   ]
  },
  {
   "cell_type": "code",
   "execution_count": 15,
   "id": "33d43389-f2a6-41b7-9b4a-73b3fccc5060",
   "metadata": {},
   "outputs": [
    {
     "name": "stdout",
     "output_type": "stream",
     "text": [
      "(1, 'hi', 9.8)\n",
      "<class 'tuple'>\n"
     ]
    }
   ],
   "source": [
    "lst = (1,'hi',9.8)\n",
    "print(lst)\n",
    "print(type(lst))"
   ]
  },
  {
   "cell_type": "code",
   "execution_count": 16,
   "id": "33fcf8d0-0d67-4435-b830-8d4af9aa4e2d",
   "metadata": {},
   "outputs": [
    {
     "name": "stdout",
     "output_type": "stream",
     "text": [
      "<class 'tuple'>\n",
      "(1, (2, 3, 8), ['hi', 9.8])\n",
      "(2, 3, 8)\n",
      "3\n"
     ]
    }
   ],
   "source": [
    "lst = (1,(2,3,8),['hi',9.8]) \n",
    "print(type(lst))\n",
    "print(lst)\n",
    "print(lst[1])\n",
    "print(lst[1][1])"
   ]
  },
  {
   "cell_type": "code",
   "execution_count": 17,
   "id": "0d774049-a0ae-464d-9922-7edd3fabbd65",
   "metadata": {},
   "outputs": [
    {
     "data": {
      "text/plain": [
       "tuple"
      ]
     },
     "execution_count": 17,
     "metadata": {},
     "output_type": "execute_result"
    }
   ],
   "source": [
    "lst = ('hi',[1,'hello'],3.5,'hello')\n",
    "lst[1]\n",
    "lst[1][0]\n",
    "type(lst)"
   ]
  },
  {
   "cell_type": "code",
   "execution_count": 18,
   "id": "ebf161a9-9a7e-4fef-bab5-84d8c577ad74",
   "metadata": {},
   "outputs": [
    {
     "data": {
      "text/plain": [
       "('hi', [1, 'hello'])"
      ]
     },
     "execution_count": 18,
     "metadata": {},
     "output_type": "execute_result"
    }
   ],
   "source": [
    "lst = ('hi',[1,'hello'],3.5,'hello')\n",
    "lst[0:3]\n",
    "lst[0:-2]"
   ]
  },
  {
   "cell_type": "code",
   "execution_count": 19,
   "id": "3e9afe87-5c84-438a-a4f3-7d05c1c5900b",
   "metadata": {},
   "outputs": [
    {
     "ename": "TypeError",
     "evalue": "'tuple' object does not support item assignment",
     "output_type": "error",
     "traceback": [
      "\u001b[31m---------------------------------------------------------------------------\u001b[39m",
      "\u001b[31mTypeError\u001b[39m                                 Traceback (most recent call last)",
      "\u001b[36mCell\u001b[39m\u001b[36m \u001b[39m\u001b[32mIn[19]\u001b[39m\u001b[32m, line 2\u001b[39m\n\u001b[32m      1\u001b[39m lst = (\u001b[32m1\u001b[39m,\u001b[32m2\u001b[39m,\u001b[32m3\u001b[39m,\u001b[32m4\u001b[39m,\u001b[32m5\u001b[39m,\u001b[32m6\u001b[39m,\u001b[32m7\u001b[39m,\u001b[32m8\u001b[39m)\n\u001b[32m----> \u001b[39m\u001b[32m2\u001b[39m \u001b[43mlst\u001b[49m\u001b[43m[\u001b[49m\u001b[32;43m2\u001b[39;49m\u001b[43m]\u001b[49m = \u001b[32m5\u001b[39m\n",
      "\u001b[31mTypeError\u001b[39m: 'tuple' object does not support item assignment"
     ]
    }
   ],
   "source": [
    "lst = (1,2,3,4,5,6,7,8)\n",
    "lst[2] = 5"
   ]
  },
  {
   "cell_type": "code",
   "execution_count": 20,
   "id": "faab2943-f867-48e6-9bdb-6fe06d69875a",
   "metadata": {},
   "outputs": [
    {
     "data": {
      "text/plain": [
       "('hi', [1, 'bye'], 3.5, 'hello')"
      ]
     },
     "execution_count": 20,
     "metadata": {},
     "output_type": "execute_result"
    }
   ],
   "source": [
    "lst = ('hi',[1,'hello'],3.5,'hello')\n",
    "lst[1][1] = 'bye'\n",
    "lst[1][1]\n",
    "lst"
   ]
  },
  {
   "cell_type": "code",
   "execution_count": 21,
   "id": "fdc9540b-985f-4ab3-ade4-f382e61b9ccb",
   "metadata": {},
   "outputs": [
    {
     "ename": "TypeError",
     "evalue": "'str' object does not support item assignment",
     "output_type": "error",
     "traceback": [
      "\u001b[31m---------------------------------------------------------------------------\u001b[39m",
      "\u001b[31mTypeError\u001b[39m                                 Traceback (most recent call last)",
      "\u001b[36mCell\u001b[39m\u001b[36m \u001b[39m\u001b[32mIn[21]\u001b[39m\u001b[32m, line 2\u001b[39m\n\u001b[32m      1\u001b[39m lst = \u001b[33m'\u001b[39m\u001b[33mprwatech\u001b[39m\u001b[33m'\u001b[39m\n\u001b[32m----> \u001b[39m\u001b[32m2\u001b[39m \u001b[43mlst\u001b[49m\u001b[43m[\u001b[49m\u001b[32;43m6\u001b[39;49m\u001b[43m]\u001b[49m = \u001b[33m'\u001b[39m\u001b[33mj\u001b[39m\u001b[33m'\u001b[39m\n",
      "\u001b[31mTypeError\u001b[39m: 'str' object does not support item assignment"
     ]
    }
   ],
   "source": [
    "lst = 'prwatech'\n",
    "lst[6] = 'j'"
   ]
  },
  {
   "cell_type": "code",
   "execution_count": 22,
   "id": "974fdd72-1eec-403a-9f09-d229f6c9cc5c",
   "metadata": {},
   "outputs": [
    {
     "name": "stdout",
     "output_type": "stream",
     "text": [
      "(0, 1, 2, 3, 4, 5, 6)\n",
      "7\n"
     ]
    }
   ],
   "source": [
    "lst = (0,1,2,3) + (4,5,6)\n",
    "print(lst)\n",
    "print(len(lst))"
   ]
  },
  {
   "cell_type": "code",
   "execution_count": 23,
   "id": "85c237f7-d94a-4cf1-9fd3-493794d5bb6e",
   "metadata": {},
   "outputs": [
    {
     "ename": "NameError",
     "evalue": "name 'lst' is not defined",
     "output_type": "error",
     "traceback": [
      "\u001b[31m---------------------------------------------------------------------------\u001b[39m",
      "\u001b[31mNameError\u001b[39m                                 Traceback (most recent call last)",
      "\u001b[36mCell\u001b[39m\u001b[36m \u001b[39m\u001b[32mIn[23]\u001b[39m\u001b[32m, line 3\u001b[39m\n\u001b[32m      1\u001b[39m lst = (\u001b[32m1\u001b[39m,\u001b[32m2\u001b[39m,\u001b[32m3\u001b[39m,\u001b[32m4\u001b[39m,\u001b[32m5\u001b[39m,\u001b[32m6\u001b[39m)\n\u001b[32m      2\u001b[39m \u001b[38;5;28;01mdel\u001b[39;00m lst\n\u001b[32m----> \u001b[39m\u001b[32m3\u001b[39m \u001b[38;5;28mprint\u001b[39m(\u001b[43mlst\u001b[49m)\n",
      "\u001b[31mNameError\u001b[39m: name 'lst' is not defined"
     ]
    }
   ],
   "source": [
    "lst = (1,2,3,4,5,6)\n",
    "del lst\n",
    "print(lst)"
   ]
  },
  {
   "cell_type": "code",
   "execution_count": 26,
   "id": "168bfd8e-0200-4fe9-94ac-80a8fda4b847",
   "metadata": {},
   "outputs": [
    {
     "data": {
      "text/plain": [
       "1"
      ]
     },
     "execution_count": 26,
     "metadata": {},
     "output_type": "execute_result"
    }
   ],
   "source": [
    "ust = (1,2,3,4,5)\n",
    "ust.index(2)"
   ]
  },
  {
   "cell_type": "code",
   "execution_count": 28,
   "id": "3cb6c211-2c73-4cdd-9cb1-b522397139bb",
   "metadata": {},
   "outputs": [
    {
     "data": {
      "text/plain": [
       "True"
      ]
     },
     "execution_count": 28,
     "metadata": {},
     "output_type": "execute_result"
    }
   ],
   "source": [
    "# in and not in operator use to check element membership in tuple\n",
    "\n",
    "lst = (1,2,3)\n",
    "2 in lst"
   ]
  },
  {
   "cell_type": "code",
   "execution_count": 30,
   "id": "5f94db9f-7c3c-4bd6-b6af-dafafba266da",
   "metadata": {},
   "outputs": [
    {
     "data": {
      "text/plain": [
       "3"
      ]
     },
     "execution_count": 30,
     "metadata": {},
     "output_type": "execute_result"
    }
   ],
   "source": [
    "len(lst)"
   ]
  },
  {
   "cell_type": "code",
   "execution_count": 31,
   "id": "5c1c4518-fd7b-47c7-9170-8b4c3161af65",
   "metadata": {},
   "outputs": [
    {
     "name": "stdout",
     "output_type": "stream",
     "text": [
      "[6, 4, 3, 1]\n"
     ]
    }
   ],
   "source": [
    "lst = (3,6,1,4)\n",
    "lst1 = sorted(lst,reverse=True)\n",
    "print(lst1)"
   ]
  },
  {
   "cell_type": "code",
   "execution_count": 32,
   "id": "7b2fe71f-4f99-4aec-8701-4d0da3a34c69",
   "metadata": {},
   "outputs": [
    {
     "data": {
      "text/plain": [
       "55"
      ]
     },
     "execution_count": 32,
     "metadata": {},
     "output_type": "execute_result"
    }
   ],
   "source": [
    "lst = (21,3,5,55,44)\n",
    "max(lst)"
   ]
  },
  {
   "cell_type": "code",
   "execution_count": 33,
   "id": "24daef27-48c2-4f97-8e85-01a2e6055108",
   "metadata": {},
   "outputs": [
    {
     "data": {
      "text/plain": [
       "128"
      ]
     },
     "execution_count": 33,
     "metadata": {},
     "output_type": "execute_result"
    }
   ],
   "source": [
    "sum(lst)"
   ]
  },
  {
   "cell_type": "code",
   "execution_count": 34,
   "id": "70c01f63-a087-4df6-bb73-9336ca44d2e3",
   "metadata": {},
   "outputs": [
    {
     "data": {
      "text/plain": [
       "3"
      ]
     },
     "execution_count": 34,
     "metadata": {},
     "output_type": "execute_result"
    }
   ],
   "source": [
    "min(lst)"
   ]
  },
  {
   "cell_type": "code",
   "execution_count": 35,
   "id": "94aa9692-b6db-4f85-811a-960eb200d982",
   "metadata": {},
   "outputs": [
    {
     "data": {
      "text/plain": [
       "3"
      ]
     },
     "execution_count": 35,
     "metadata": {},
     "output_type": "execute_result"
    }
   ],
   "source": [
    "import statistics as lst\n",
    "lst.mean((1,2,3,4,5))"
   ]
  },
  {
   "cell_type": "code",
   "execution_count": 36,
   "id": "f8f52692-feaf-4b20-9811-224781bdc597",
   "metadata": {},
   "outputs": [
    {
     "data": {
      "text/plain": [
       "24"
      ]
     },
     "execution_count": 36,
     "metadata": {},
     "output_type": "execute_result"
    }
   ],
   "source": [
    "import math as lst\n",
    "lst.factorial(4)"
   ]
  },
  {
   "cell_type": "code",
   "execution_count": 37,
   "id": "ab09c2f0-b9a2-4995-ae21-00d486f13c55",
   "metadata": {},
   "outputs": [
    {
     "name": "stdout",
     "output_type": "stream",
     "text": [
      "['one', 'two', 'three', ['five', 'six']]\n"
     ]
    }
   ],
   "source": [
    "lst = ['one','two','three']\n",
    "lst1 = ['five','six']\n",
    "lst.append(lst1)\n",
    "print(lst)"
   ]
  },
  {
   "cell_type": "code",
   "execution_count": 39,
   "id": "402dca0f-d37f-4463-8387-5103c7ed2a58",
   "metadata": {},
   "outputs": [
    {
     "name": "stdout",
     "output_type": "stream",
     "text": [
      "['one', 'two', 'three', 'five', 'six']\n"
     ]
    }
   ],
   "source": [
    "lst = ['one','two','three']\n",
    "lst1 = ['five','six']\n",
    "lst.extend(lst1)\n",
    "print(lst)"
   ]
  },
  {
   "cell_type": "code",
   "execution_count": 40,
   "id": "c2bb2604-69c6-4f1f-88e5-e97d69672042",
   "metadata": {},
   "outputs": [
    {
     "name": "stdout",
     "output_type": "stream",
     "text": [
      "['one', 'two', 'three']\n",
      "['one', 'three']\n"
     ]
    }
   ],
   "source": [
    "lst = ['one','two','three']\n",
    "print(lst)\n",
    "del lst[1]\n",
    "print(lst)"
   ]
  },
  {
   "cell_type": "code",
   "execution_count": 44,
   "id": "5ca65c64-be7f-496b-afee-bc4fe1969566",
   "metadata": {},
   "outputs": [
    {
     "name": "stdout",
     "output_type": "stream",
     "text": [
      "['I', 'am', 'learing', 'Python']\n",
      "I,am,learing,Python\n",
      "<class 'list'>\n",
      "<class 'str'>\n"
     ]
    }
   ],
   "source": [
    "lst = \"I,am,learing,Python\"\n",
    "lst2 =  lst.split(',')\n",
    "print(lst2)\n",
    "print(lst)\n",
    "print(type(lst2))\n",
    "print(type(lst))"
   ]
  },
  {
   "cell_type": "code",
   "execution_count": 45,
   "id": "cf539706-e4b7-4f49-b478-4439751cdc97",
   "metadata": {},
   "outputs": [
    {
     "name": "stdout",
     "output_type": "stream",
     "text": [
      "4\n",
      "6\n"
     ]
    }
   ],
   "source": [
    "lst = [1,4,6,4,8,3]\n",
    "print(lst[1])\n",
    "print(lst[-4])"
   ]
  },
  {
   "cell_type": "code",
   "execution_count": 46,
   "id": "2c71936b-c1bc-4c3a-8c57-ee5ca9f85701",
   "metadata": {},
   "outputs": [
    {
     "name": "stdout",
     "output_type": "stream",
     "text": [
      "[10, 40, 60, 40, 'ajay', 'rakesh', 'julfi']\n"
     ]
    }
   ],
   "source": [
    "lst = [10,40,60,40]\n",
    "lst1 = [\"ajay\",\"rakesh\",\"julfi\"]\n",
    "lst2 = lst + lst1\n",
    "print(lst2)"
   ]
  },
  {
   "cell_type": "code",
   "execution_count": 47,
   "id": "3f9e6609-e14a-4e2b-9abf-08746741f052",
   "metadata": {},
   "outputs": [
    {
     "name": "stdout",
     "output_type": "stream",
     "text": [
      "4\n"
     ]
    }
   ],
   "source": [
    "lst = [1,4,3,4,3,4,5,6,7,4]\n",
    "print(lst.count(4))"
   ]
  },
  {
   "cell_type": "code",
   "execution_count": 48,
   "id": "564aa0ae-2924-4be2-bc65-4a8faef8fe17",
   "metadata": {},
   "outputs": [
    {
     "name": "stdout",
     "output_type": "stream",
     "text": [
      "one\n",
      "two\n",
      "three\n",
      "four\n"
     ]
    }
   ],
   "source": [
    "lst = ['one','two','three','four']\n",
    "for data in lst:\n",
    "    print(data)"
   ]
  },
  {
   "cell_type": "code",
   "execution_count": 50,
   "id": "3b6702ce-54ec-41d1-af30-5fd8fabb67b3",
   "metadata": {},
   "outputs": [
    {
     "name": "stdout",
     "output_type": "stream",
     "text": [
      "90° Clockwise Rotated Matrix:\n",
      "[4, 1]\n",
      "[5, 2]\n",
      "[6, 3]\n"
     ]
    }
   ],
   "source": [
    "matrix = [\n",
    "    [1, 2, 3],\n",
    "    [4, 5, 6]\n",
    "]\n",
    "\n",
    "rotated_90_clockwise = [[row[i] for row in matrix[::-1]] for i in range(len(matrix[0]))]\n",
    "\n",
    "print(\"90° Clockwise Rotated Matrix:\")\n",
    "for row in rotated_90_clockwise:\n",
    "    print(row)"
   ]
  },
  {
   "cell_type": "code",
   "execution_count": null,
   "id": "d92ffb78-1dcb-40b7-ac6f-ef6d8c4e25e7",
   "metadata": {},
   "outputs": [],
   "source": []
  }
 ],
 "metadata": {
  "kernelspec": {
   "display_name": "Python 3 (ipykernel)",
   "language": "python",
   "name": "python3"
  },
  "language_info": {
   "codemirror_mode": {
    "name": "ipython",
    "version": 3
   },
   "file_extension": ".py",
   "mimetype": "text/x-python",
   "name": "python",
   "nbconvert_exporter": "python",
   "pygments_lexer": "ipython3",
   "version": "3.11.0"
  }
 },
 "nbformat": 4,
 "nbformat_minor": 5
}
