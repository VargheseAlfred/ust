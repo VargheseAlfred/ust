{
 "cells": [
  {
   "cell_type": "code",
   "execution_count": 5,
   "id": "b54b1e01-db45-48ee-b681-2f6c5b025904",
   "metadata": {},
   "outputs": [
    {
     "name": "stdout",
     "output_type": "stream",
     "text": [
      "   ID     Name   Age\n",
      "0   1    Alice  25.0\n",
      "1   2      Bob  30.0\n",
      "2   3  Charlie   NaN\n"
     ]
    }
   ],
   "source": [
    "import pandas as pd\n",
    "\n",
    "# Sample DataFrames\n",
    "df1 = pd.DataFrame({'ID': [1, 2, 3], 'Name': ['Alice', 'Bob', 'Charlie']})\n",
    "df2 = pd.DataFrame({'ID': [1, 2, 4], 'Age': [25, 30, 22]})\n",
    "\n",
    "# Merge on 'ID' column\n",
    "merged_df = pd.merge(df1, df2, on='ID', how='left')\n",
    "\n",
    "print(merged_df)"
   ]
  },
  {
   "cell_type": "code",
   "execution_count": 6,
   "id": "55bfa99c-37fc-477c-ad07-de82f172c5c9",
   "metadata": {},
   "outputs": [
    {
     "name": "stdout",
     "output_type": "stream",
     "text": [
      "   ID   Name  Age\n",
      "0   1  Alice   25\n",
      "1   2    Bob   30\n",
      "2   4    NaN   22\n"
     ]
    }
   ],
   "source": [
    "import pandas as pd\n",
    "\n",
    "# Sample DataFrames\n",
    "df1 = pd.DataFrame({'ID': [1, 2, 3], 'Name': ['Alice', 'Bob', 'Charlie']})\n",
    "df2 = pd.DataFrame({'ID': [1, 2, 4], 'Age': [25, 30, 22]})\n",
    "\n",
    "# Merge on 'ID' column\n",
    "merged_df = pd.merge(df1, df2, on='ID', how='right')  \n",
    "\n",
    "print(merged_df)"
   ]
  },
  {
   "cell_type": "code",
   "execution_count": 7,
   "id": "b1e75877-6b71-400f-a9f6-b2dc9e783a3a",
   "metadata": {},
   "outputs": [
    {
     "name": "stdout",
     "output_type": "stream",
     "text": [
      "   ID   Name  Age\n",
      "0   1  Alice   25\n",
      "1   2    Bob   30\n"
     ]
    }
   ],
   "source": [
    "import pandas as pd\n",
    "\n",
    "# Sample DataFrames\n",
    "df1 = pd.DataFrame({'ID': [1, 2, 3], 'Name': ['Alice', 'Bob', 'Charlie']})\n",
    "df2 = pd.DataFrame({'ID': [1, 2, 4], 'Age': [25, 30, 22]})\n",
    "\n",
    "# Merge on 'ID' column\n",
    "merged_df = pd.merge(df1, df2, on='ID', how='inner') \n",
    "\n",
    "print(merged_df)"
   ]
  },
  {
   "cell_type": "code",
   "execution_count": 8,
   "id": "d1e7686c-13a9-4b5e-9de6-1df6c172f028",
   "metadata": {},
   "outputs": [
    {
     "name": "stdout",
     "output_type": "stream",
     "text": [
      "   ID     Name   Age\n",
      "0   1    Alice  25.0\n",
      "1   2      Bob  30.0\n",
      "2   3  Charlie   NaN\n",
      "3   4      NaN  22.0\n"
     ]
    }
   ],
   "source": [
    "import pandas as pd\n",
    "\n",
    "# Sample DataFrames\n",
    "df1 = pd.DataFrame({'ID': [1, 2, 3], 'Name': ['Alice', 'Bob', 'Charlie']})\n",
    "df2 = pd.DataFrame({'ID': [1, 2, 4], 'Age': [25, 30, 22]})\n",
    "\n",
    "# Merge on 'ID' column\n",
    "merged_df = pd.merge(df1, df2, on='ID', how='outer')  \n",
    "\n",
    "print(merged_df)"
   ]
  },
  {
   "cell_type": "code",
   "execution_count": 9,
   "id": "de769470-ce76-4dcc-acf5-39528c86869c",
   "metadata": {},
   "outputs": [],
   "source": [
    "import pandas as pd\n",
    "df = pd.read_csv(\"IPL Matches 2008-2020.csv\")"
   ]
  },
  {
   "cell_type": "code",
   "execution_count": 10,
   "id": "42e87b2c-0588-4620-8a45-5ef270bad877",
   "metadata": {},
   "outputs": [
    {
     "name": "stdout",
     "output_type": "stream",
     "text": [
      "Total Wins per Team:\n",
      " winner\n",
      "Mumbai Indians                 120\n",
      "Chennai Super Kings            106\n",
      "Kolkata Knight Riders           99\n",
      "Royal Challengers Bangalore     91\n",
      "Kings XI Punjab                 88\n",
      "Rajasthan Royals                81\n",
      "Delhi Daredevils                67\n",
      "Sunrisers Hyderabad             66\n",
      "Deccan Chargers                 29\n",
      "Delhi Capitals                  19\n",
      "Gujarat Lions                   13\n",
      "Pune Warriors                   12\n",
      "Rising Pune Supergiant          10\n",
      "Kochi Tuskers Kerala             6\n",
      "Rising Pune Supergiants          5\n",
      "Name: count, dtype: int64\n"
     ]
    }
   ],
   "source": [
    "# Team Performance Analysis - Win Count\n",
    "team_wins = df['winner'].value_counts()\n",
    "print(\"Total Wins per Team:\\n\", team_wins)"
   ]
  },
  {
   "cell_type": "code",
   "execution_count": 11,
   "id": "7a12f206-09ca-4ac1-9aff-00a211c64498",
   "metadata": {},
   "outputs": [
    {
     "name": "stdout",
     "output_type": "stream",
     "text": [
      "Impact of Toss Decisions:\n",
      " toss_decision\n",
      "bat      319\n",
      "field    493\n",
      "Name: winner, dtype: int64\n"
     ]
    }
   ],
   "source": [
    "# Analyzing toss decisions\n",
    "toss_decision = df.groupby(\"toss_decision\")[\"winner\"].count()\n",
    "print(\"Impact of Toss Decisions:\\n\", toss_decision)"
   ]
  },
  {
   "cell_type": "code",
   "execution_count": 13,
   "id": "177578e4-e012-4d5f-a664-fffe962522ea",
   "metadata": {},
   "outputs": [
    {
     "name": "stdout",
     "output_type": "stream",
     "text": [
      "Top 10 Players by 'Player of the Match' Awards:\n",
      " player_of_match\n",
      "AB de Villiers    23\n",
      "CH Gayle          22\n",
      "RG Sharma         18\n",
      "DA Warner         17\n",
      "MS Dhoni          17\n",
      "SR Watson         16\n",
      "YK Pathan         16\n",
      "SK Raina          14\n",
      "V Kohli           13\n",
      "G Gambhir         13\n",
      "Name: count, dtype: int64\n"
     ]
    }
   ],
   "source": [
    "# Player with most 'Player of the Match' awards\n",
    "top_players = df[\"player_of_match\"].value_counts().head(10)\n",
    "print(\"Top 10 Players by 'Player of the Match' Awards:\\n\", top_players)"
   ]
  },
  {
   "cell_type": "code",
   "execution_count": 14,
   "id": "9141d626-8b3e-4677-88e8-4ebc09055bef",
   "metadata": {},
   "outputs": [
    {
     "data": {
      "text/plain": [
       "id                   0\n",
       "city                13\n",
       "date                 0\n",
       "player_of_match      4\n",
       "venue                0\n",
       "neutral_venue        0\n",
       "team1                0\n",
       "team2                0\n",
       "toss_winner          0\n",
       "toss_decision        0\n",
       "winner               4\n",
       "result               4\n",
       "result_margin       17\n",
       "eliminator           4\n",
       "method             797\n",
       "umpire1              0\n",
       "umpire2              0\n",
       "dtype: int64"
      ]
     },
     "execution_count": 14,
     "metadata": {},
     "output_type": "execute_result"
    }
   ],
   "source": [
    "df.isnull().sum()"
   ]
  },
  {
   "cell_type": "code",
   "execution_count": null,
   "id": "e71e6de4-630b-4291-859b-ac02d70af73a",
   "metadata": {},
   "outputs": [],
   "source": []
  }
 ],
 "metadata": {
  "kernelspec": {
   "display_name": "Python 3 (ipykernel)",
   "language": "python",
   "name": "python3"
  },
  "language_info": {
   "codemirror_mode": {
    "name": "ipython",
    "version": 3
   },
   "file_extension": ".py",
   "mimetype": "text/x-python",
   "name": "python",
   "nbconvert_exporter": "python",
   "pygments_lexer": "ipython3",
   "version": "3.11.0"
  }
 },
 "nbformat": 4,
 "nbformat_minor": 5
}
